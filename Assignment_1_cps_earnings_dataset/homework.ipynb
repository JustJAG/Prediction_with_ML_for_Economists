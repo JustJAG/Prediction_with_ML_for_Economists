{
 "cells": [
  {
   "cell_type": "markdown",
   "id": "5f179275",
   "metadata": {},
   "source": [
    "# Assignment 1\n",
    "\n",
    "This is an individual assignment, but you may collaborate with team mates on getting to know the data. \n",
    "\n",
    "## The dataset\n",
    "\n",
    "Consider the cps-earnings dataset  at https://osf.io/g8p9j/ (Cross section. N=149 316 individuals)\n",
    "\n",
    "Pick an occupation and filter data accordingly. You must all pick different occupations / occupation individually.  \n",
    "Occupation codes are here: https://osf.io/57n9q/\n",
    "You may merge occupations as you see fit (ie all tax/insurance specialists, etc). \n",
    "You can see some ideas working with this code here.\n",
    "\n",
    "https://github.com/gabors-data-analysis/da_case_studies/tree/master/ch09-gender-age-earnings\n",
    "https://github.com/gabors-data-analysis/da_case_studies/tree/master/ch10-gender-earnings-understand\n",
    "## Tasks\n",
    "\n",
    "Build four predictive models using linear regression for earnings per hour. \n",
    "\n",
    "1. Models: the target variable is earnings per hour, all others would be predictors.\n",
    "2. Model 1 shall be the simplest, model 4 the more complex. It shall be OLS. You shall explain your choice of predictors.\n",
    "3. Compare model performance of these models (a) RMSE in the full sample, (2) cross-validated RMSE and (c) BIC in the full sample. \n",
    "4. Discuss the relationship between model complexity and performance. You may use visual aids. \n",
    "5. You should submit your code in Github and 1 page report in pdf on Moodle. \n",
    "\n",
    "Work individually. But you may collaborate in your support group, check and comment (add issues) on each other code.\n",
    "\n",
    "## Hints re Git and commit\n",
    "\n",
    "Committing is a habit, and people may have different ways. \n",
    "\n",
    "Some people commit very frequently, others less so. \n",
    "We basically expect you to have a few commits, one per major parts of the exercise. The first commit will set up the the folder/file for A1. \n",
    "Then you can commit, say data work, descriptives, graphics, and regressions. And then, commit your edits. \n",
    "Make sure the commit text is short but meaningful: Good: \"adding graphs\", \"calculate RMSE\", \"edit typos\". Bad: \"update\"\n",
    "Grading\n",
    "\n",
    "This assignment is worth 20 points. \n",
    "\n",
    "* 5 points will be for Git use. \n",
    "* 10 points will be technical aspects the analysis \n",
    "* 5 points will be based on your report"
   ]
  },
  {
   "cell_type": "markdown",
   "id": "89256578",
   "metadata": {},
   "source": [
    "### Setting up directories and import packages"
   ]
  },
  {
   "cell_type": "code",
   "execution_count": 1,
   "id": "b45a5906",
   "metadata": {},
   "outputs": [],
   "source": [
    "### SETTING UP DIRECTORIES\n",
    "\n",
    "# import packages\n",
    "import pandas as pd\n",
    "import os\n",
    "import numpy as np\n",
    "import sys\n",
    "import warnings\n",
    "\n",
    "from mizani.formatters import percent_format\n",
    "from plotnine import *\n",
    "from datetime import datetime\n",
    "import statsmodels.api as sm\n",
    "import statsmodels.formula.api as smf\n",
    "from mizani import transforms\n",
    "from scipy.stats import norm\n",
    "from IPython.core.display import HTML\n",
    "from stargazer.stargazer import Stargazer\n",
    "import statsmodels.nonparametric.kernel_regression as loess\n",
    "import seaborn as sns\n",
    "from mizani.formatters import percent_format\n",
    "import regex as re\n",
    "\n",
    "warnings.filterwarnings(\"ignore\")\n",
    "\n",
    "# set working directory for da_data_repo -- replace the\n",
    "os.chdir('C:\\\\Users\\\\77774\\\\Documents\\\\GitHub\\\\Prediction_with_ML_for_Economists\\\\Assignment_1_cps_earnings_dataset')\n",
    "\n",
    "# location folders\n",
    "data_in = \"C:\\\\Users\\\\77774\\\\Documents\\\\GitHub\\\\Prediction_with_ML_for_Economists\\\\Assignment_1_cps_earnings_dataset\\\\clean\\\\\"\n",
    "data_out = \"C:\\\\Users\\\\77774\\\\Documents\\\\GitHub\\\\Prediction_with_ML_for_Economists\\\\Assignment_1_cps_earnings_dataset\\\\clean\\\\\"\n",
    "results = \"C:\\\\Users\\\\77774\\\\Documents\\\\GitHub\\\\Prediction_with_ML_for_Economists\\\\Assignment_1_cps_earnings_dataset\\\\results\\\\\""
   ]
  },
  {
   "cell_type": "code",
   "execution_count": 2,
   "id": "a1380ebe",
   "metadata": {},
   "outputs": [],
   "source": [
    "# load dataset (as unicode, to avoid size and memor warnings)\n",
    "\n",
    "df = pd.read_csv(\n",
    "    data_in + \"morg-2014-emp.csv\",\n",
    "    quotechar='\"',\n",
    "    delimiter=\",\",\n",
    "    encoding=\"utf-8\",\n",
    "#    dtype = \"unicode\"\n",
    ")"
   ]
  },
  {
   "cell_type": "markdown",
   "id": "978f6993",
   "metadata": {},
   "source": [
    "### Prepare data"
   ]
  },
  {
   "cell_type": "code",
   "execution_count": 3,
   "id": "f0227d8b",
   "metadata": {},
   "outputs": [],
   "source": [
    "# Keep only financial specialists\n",
    "\n",
    "df.loc[\n",
    "    ((df[\"occ2012\"] >= 800) & (df[\"occ2012\"] <= 950)), \"sample\"\n",
    "] = 1\n",
    "df.loc[df[\"sample\"].isna(), \"sample\"] = 0\n",
    "\n",
    "df = df.loc[\n",
    "    (df[\"sample\"] == 1), :\n",
    "].reset_index(drop=True)"
   ]
  },
  {
   "cell_type": "code",
   "execution_count": 4,
   "id": "d9770d5f",
   "metadata": {},
   "outputs": [],
   "source": [
    "#create some variables\n",
    "\n",
    "#female\n",
    "df[\"female\"] = (df.sex == 2).astype(int)\n",
    "\n",
    "#w and lnw\n",
    "df[\"w\"] = df[\"earnwke\"] / df[\"uhours\"]\n",
    "df[\"lnw\"] = np.log(df[\"w\"])\n",
    "\n",
    "#age forms\n",
    "df[\"agesq\"] = np.power(df[\"age\"], 2)\n",
    "df[\"agecu\"] = np.power(df[\"age\"], 3)\n",
    "\n",
    "#married\n",
    "df['married'] = (df.marital <= 4).astype(int)\n",
    "\n",
    "#race\n",
    "df[\"white\"] = (df[\"race\"] == 1).astype(int)\n",
    "df[\"afram\"] = (df[\"race\"] == 2).astype(int)\n",
    "df[\"asian\"] = (df[\"race\"] == 4).astype(int)\n",
    "df[\"hisp\"] = (df[\"ethnic\"].notna()).astype(int)\n",
    "df[\"othernonw\"] = (\n",
    "    (df[\"white\"] == 0) & (df[\"afram\"] == 0) & (df[\"asian\"] == 0) & (df[\"hisp\"] == 0)\n",
    ").astype(int)\n",
    "\n",
    "#nonUSborn\n",
    "df[\"nonUSborn\"] = (\n",
    "    (df[\"prcitshp\"] == \"Foreign Born, US Cit By Naturalization\")\n",
    "    | (df[\"prcitshp\"] == \"Foreign Born, Not a US Citizen\")\n",
    ").astype(int)\n",
    "\n",
    "#havechild = at least 1 child\n",
    "df['havechild']=(df['chldpres']>0).astype(int)"
   ]
  },
  {
   "cell_type": "code",
   "execution_count": 5,
   "id": "2f6c74e9",
   "metadata": {},
   "outputs": [],
   "source": [
    "# transform grade92 to educ (which will be measured in years)\n",
    "# create a list of our conditions\n",
    "conditions = [\n",
    "    (df['grade92'] == 31),\n",
    "    (df['grade92'] == 32),\n",
    "    (df['grade92'] == 33),\n",
    "    (df['grade92'] == 34),\n",
    "    (df['grade92'] == 35),\n",
    "    (df['grade92'] == 36),\n",
    "    (df['grade92'] == 37),\n",
    "    (df['grade92'] == 38),\n",
    "    (df['grade92'] == 39),\n",
    "    (df['grade92'] == 40),\n",
    "    (df['grade92'] == 41),\n",
    "    (df['grade92'] == 42),\n",
    "    (df['grade92'] == 43),\n",
    "    (df['grade92'] == 44),\n",
    "    (df['grade92'] == 45),\n",
    "    (df['grade92'] == 46)\n",
    "    ]\n",
    "\n",
    "# create a list of the values we want to assign for each condition\n",
    "values = [1, 4, 6, 8, 9, 10, 11, 12, 13, 14, 15, 15, 16, 18, 18, 20]\n",
    "\n",
    "# create a new column and use np.select to assign values to it using our lists as arguments\n",
    "df['educ'] = np.select(conditions, values)\n",
    "df['educsq'] = np.power(df[\"educ\"], 2)\n",
    "df['educcu'] = np.power(df[\"educ\"], 3)\n"
   ]
  },
  {
   "cell_type": "code",
   "execution_count": 6,
   "id": "06328769",
   "metadata": {},
   "outputs": [],
   "source": [
    "# remove columns we don't need\n",
    "df= df[\n",
    "    [\n",
    "\n",
    "'earnwke' ,\n",
    "'uhours'   ,     \n",
    "'age'      ,            \n",
    "'occ2012'   ,        \n",
    "'female'    ,     \n",
    "'w'         ,   \n",
    "'lnw'     ,     \n",
    "'agesq'     ,   \n",
    "'agecu'    ,         \n",
    "'married'   ,     \n",
    "'white'      ,    \n",
    "'afram'       ,   \n",
    "'asian'        ,  \n",
    "'hisp'          , \n",
    "'othernonw'      ,\n",
    "'nonUSborn'      ,\n",
    "'havechild'      ,\n",
    "'educ'           ,\n",
    "'educsq'         ,\n",
    "'educcu'        \n",
    "    ]\n",
    "]"
   ]
  },
  {
   "cell_type": "markdown",
   "id": "a545c7db",
   "metadata": {},
   "source": [
    "### Look at the data"
   ]
  },
  {
   "cell_type": "code",
   "execution_count": 7,
   "id": "4e452cc9",
   "metadata": {},
   "outputs": [
    {
     "data": {
      "text/html": [
       "<div>\n",
       "<style scoped>\n",
       "    .dataframe tbody tr th:only-of-type {\n",
       "        vertical-align: middle;\n",
       "    }\n",
       "\n",
       "    .dataframe tbody tr th {\n",
       "        vertical-align: top;\n",
       "    }\n",
       "\n",
       "    .dataframe thead th {\n",
       "        text-align: right;\n",
       "    }\n",
       "</style>\n",
       "<table border=\"1\" class=\"dataframe\">\n",
       "  <thead>\n",
       "    <tr style=\"text-align: right;\">\n",
       "      <th></th>\n",
       "      <th>earnwke</th>\n",
       "      <th>uhours</th>\n",
       "      <th>age</th>\n",
       "      <th>occ2012</th>\n",
       "      <th>female</th>\n",
       "      <th>w</th>\n",
       "      <th>lnw</th>\n",
       "      <th>agesq</th>\n",
       "      <th>agecu</th>\n",
       "      <th>married</th>\n",
       "      <th>white</th>\n",
       "      <th>afram</th>\n",
       "      <th>asian</th>\n",
       "      <th>hisp</th>\n",
       "      <th>othernonw</th>\n",
       "      <th>nonUSborn</th>\n",
       "      <th>havechild</th>\n",
       "      <th>educ</th>\n",
       "      <th>educsq</th>\n",
       "      <th>educcu</th>\n",
       "    </tr>\n",
       "  </thead>\n",
       "  <tbody>\n",
       "    <tr>\n",
       "      <th>count</th>\n",
       "      <td>3404.000000</td>\n",
       "      <td>3404.000000</td>\n",
       "      <td>3404.000000</td>\n",
       "      <td>3404.000000</td>\n",
       "      <td>3404.000000</td>\n",
       "      <td>3404.000000</td>\n",
       "      <td>3404.000000</td>\n",
       "      <td>3404.000000</td>\n",
       "      <td>3404.000000</td>\n",
       "      <td>3404.000000</td>\n",
       "      <td>3404.000000</td>\n",
       "      <td>3404.000000</td>\n",
       "      <td>3404.000000</td>\n",
       "      <td>3404.000000</td>\n",
       "      <td>3404.000000</td>\n",
       "      <td>3404.000000</td>\n",
       "      <td>3404.000000</td>\n",
       "      <td>3404.000000</td>\n",
       "      <td>3404.000000</td>\n",
       "      <td>3404.000000</td>\n",
       "    </tr>\n",
       "    <tr>\n",
       "      <th>mean</th>\n",
       "      <td>1252.053637</td>\n",
       "      <td>41.211222</td>\n",
       "      <td>42.066392</td>\n",
       "      <td>834.030552</td>\n",
       "      <td>0.603702</td>\n",
       "      <td>30.335379</td>\n",
       "      <td>3.267568</td>\n",
       "      <td>1902.685076</td>\n",
       "      <td>91328.103995</td>\n",
       "      <td>0.642186</td>\n",
       "      <td>0.826381</td>\n",
       "      <td>0.074912</td>\n",
       "      <td>0.080787</td>\n",
       "      <td>0.065805</td>\n",
       "      <td>0.014982</td>\n",
       "      <td>0.123090</td>\n",
       "      <td>0.395417</td>\n",
       "      <td>15.814630</td>\n",
       "      <td>252.328731</td>\n",
       "      <td>4058.219448</td>\n",
       "    </tr>\n",
       "    <tr>\n",
       "      <th>std</th>\n",
       "      <td>685.573216</td>\n",
       "      <td>7.328230</td>\n",
       "      <td>11.538753</td>\n",
       "      <td>45.983876</td>\n",
       "      <td>0.489200</td>\n",
       "      <td>18.167321</td>\n",
       "      <td>0.626535</td>\n",
       "      <td>986.756564</td>\n",
       "      <td>67148.231997</td>\n",
       "      <td>0.479428</td>\n",
       "      <td>0.378837</td>\n",
       "      <td>0.263288</td>\n",
       "      <td>0.272548</td>\n",
       "      <td>0.247977</td>\n",
       "      <td>0.121500</td>\n",
       "      <td>0.328589</td>\n",
       "      <td>0.489012</td>\n",
       "      <td>1.492269</td>\n",
       "      <td>45.770573</td>\n",
       "      <td>1085.429463</td>\n",
       "    </tr>\n",
       "    <tr>\n",
       "      <th>min</th>\n",
       "      <td>0.400000</td>\n",
       "      <td>1.000000</td>\n",
       "      <td>17.000000</td>\n",
       "      <td>800.000000</td>\n",
       "      <td>0.000000</td>\n",
       "      <td>0.010000</td>\n",
       "      <td>-4.605170</td>\n",
       "      <td>289.000000</td>\n",
       "      <td>4913.000000</td>\n",
       "      <td>0.000000</td>\n",
       "      <td>0.000000</td>\n",
       "      <td>0.000000</td>\n",
       "      <td>0.000000</td>\n",
       "      <td>0.000000</td>\n",
       "      <td>0.000000</td>\n",
       "      <td>0.000000</td>\n",
       "      <td>0.000000</td>\n",
       "      <td>1.000000</td>\n",
       "      <td>1.000000</td>\n",
       "      <td>1.000000</td>\n",
       "    </tr>\n",
       "    <tr>\n",
       "      <th>25%</th>\n",
       "      <td>758.307500</td>\n",
       "      <td>40.000000</td>\n",
       "      <td>32.000000</td>\n",
       "      <td>800.000000</td>\n",
       "      <td>0.000000</td>\n",
       "      <td>19.000000</td>\n",
       "      <td>2.944439</td>\n",
       "      <td>1024.000000</td>\n",
       "      <td>32768.000000</td>\n",
       "      <td>0.000000</td>\n",
       "      <td>1.000000</td>\n",
       "      <td>0.000000</td>\n",
       "      <td>0.000000</td>\n",
       "      <td>0.000000</td>\n",
       "      <td>0.000000</td>\n",
       "      <td>0.000000</td>\n",
       "      <td>0.000000</td>\n",
       "      <td>15.000000</td>\n",
       "      <td>225.000000</td>\n",
       "      <td>3375.000000</td>\n",
       "    </tr>\n",
       "    <tr>\n",
       "      <th>50%</th>\n",
       "      <td>1057.690000</td>\n",
       "      <td>40.000000</td>\n",
       "      <td>42.000000</td>\n",
       "      <td>800.000000</td>\n",
       "      <td>1.000000</td>\n",
       "      <td>26.000000</td>\n",
       "      <td>3.258097</td>\n",
       "      <td>1764.000000</td>\n",
       "      <td>74088.000000</td>\n",
       "      <td>1.000000</td>\n",
       "      <td>1.000000</td>\n",
       "      <td>0.000000</td>\n",
       "      <td>0.000000</td>\n",
       "      <td>0.000000</td>\n",
       "      <td>0.000000</td>\n",
       "      <td>0.000000</td>\n",
       "      <td>0.000000</td>\n",
       "      <td>16.000000</td>\n",
       "      <td>256.000000</td>\n",
       "      <td>4096.000000</td>\n",
       "    </tr>\n",
       "    <tr>\n",
       "      <th>75%</th>\n",
       "      <td>1581.190000</td>\n",
       "      <td>40.000000</td>\n",
       "      <td>52.000000</td>\n",
       "      <td>850.000000</td>\n",
       "      <td>1.000000</td>\n",
       "      <td>38.451875</td>\n",
       "      <td>3.649407</td>\n",
       "      <td>2704.000000</td>\n",
       "      <td>140608.000000</td>\n",
       "      <td>1.000000</td>\n",
       "      <td>1.000000</td>\n",
       "      <td>0.000000</td>\n",
       "      <td>0.000000</td>\n",
       "      <td>0.000000</td>\n",
       "      <td>0.000000</td>\n",
       "      <td>0.000000</td>\n",
       "      <td>1.000000</td>\n",
       "      <td>16.000000</td>\n",
       "      <td>256.000000</td>\n",
       "      <td>4096.000000</td>\n",
       "    </tr>\n",
       "    <tr>\n",
       "      <th>max</th>\n",
       "      <td>2884.610000</td>\n",
       "      <td>92.000000</td>\n",
       "      <td>64.000000</td>\n",
       "      <td>950.000000</td>\n",
       "      <td>1.000000</td>\n",
       "      <td>500.000000</td>\n",
       "      <td>6.214608</td>\n",
       "      <td>4096.000000</td>\n",
       "      <td>262144.000000</td>\n",
       "      <td>1.000000</td>\n",
       "      <td>1.000000</td>\n",
       "      <td>1.000000</td>\n",
       "      <td>1.000000</td>\n",
       "      <td>1.000000</td>\n",
       "      <td>1.000000</td>\n",
       "      <td>1.000000</td>\n",
       "      <td>1.000000</td>\n",
       "      <td>20.000000</td>\n",
       "      <td>400.000000</td>\n",
       "      <td>8000.000000</td>\n",
       "    </tr>\n",
       "  </tbody>\n",
       "</table>\n",
       "</div>"
      ],
      "text/plain": [
       "           earnwke       uhours          age      occ2012       female  \\\n",
       "count  3404.000000  3404.000000  3404.000000  3404.000000  3404.000000   \n",
       "mean   1252.053637    41.211222    42.066392   834.030552     0.603702   \n",
       "std     685.573216     7.328230    11.538753    45.983876     0.489200   \n",
       "min       0.400000     1.000000    17.000000   800.000000     0.000000   \n",
       "25%     758.307500    40.000000    32.000000   800.000000     0.000000   \n",
       "50%    1057.690000    40.000000    42.000000   800.000000     1.000000   \n",
       "75%    1581.190000    40.000000    52.000000   850.000000     1.000000   \n",
       "max    2884.610000    92.000000    64.000000   950.000000     1.000000   \n",
       "\n",
       "                 w          lnw        agesq          agecu      married  \\\n",
       "count  3404.000000  3404.000000  3404.000000    3404.000000  3404.000000   \n",
       "mean     30.335379     3.267568  1902.685076   91328.103995     0.642186   \n",
       "std      18.167321     0.626535   986.756564   67148.231997     0.479428   \n",
       "min       0.010000    -4.605170   289.000000    4913.000000     0.000000   \n",
       "25%      19.000000     2.944439  1024.000000   32768.000000     0.000000   \n",
       "50%      26.000000     3.258097  1764.000000   74088.000000     1.000000   \n",
       "75%      38.451875     3.649407  2704.000000  140608.000000     1.000000   \n",
       "max     500.000000     6.214608  4096.000000  262144.000000     1.000000   \n",
       "\n",
       "             white        afram        asian         hisp    othernonw  \\\n",
       "count  3404.000000  3404.000000  3404.000000  3404.000000  3404.000000   \n",
       "mean      0.826381     0.074912     0.080787     0.065805     0.014982   \n",
       "std       0.378837     0.263288     0.272548     0.247977     0.121500   \n",
       "min       0.000000     0.000000     0.000000     0.000000     0.000000   \n",
       "25%       1.000000     0.000000     0.000000     0.000000     0.000000   \n",
       "50%       1.000000     0.000000     0.000000     0.000000     0.000000   \n",
       "75%       1.000000     0.000000     0.000000     0.000000     0.000000   \n",
       "max       1.000000     1.000000     1.000000     1.000000     1.000000   \n",
       "\n",
       "         nonUSborn    havechild         educ       educsq       educcu  \n",
       "count  3404.000000  3404.000000  3404.000000  3404.000000  3404.000000  \n",
       "mean      0.123090     0.395417    15.814630   252.328731  4058.219448  \n",
       "std       0.328589     0.489012     1.492269    45.770573  1085.429463  \n",
       "min       0.000000     0.000000     1.000000     1.000000     1.000000  \n",
       "25%       0.000000     0.000000    15.000000   225.000000  3375.000000  \n",
       "50%       0.000000     0.000000    16.000000   256.000000  4096.000000  \n",
       "75%       0.000000     1.000000    16.000000   256.000000  4096.000000  \n",
       "max       1.000000     1.000000    20.000000   400.000000  8000.000000  "
      ]
     },
     "execution_count": 7,
     "metadata": {},
     "output_type": "execute_result"
    }
   ],
   "source": [
    "#quick look\n",
    "df.describe()"
   ]
  },
  {
   "cell_type": "code",
   "execution_count": 8,
   "id": "ec28cc65",
   "metadata": {},
   "outputs": [
    {
     "data": {
      "text/plain": [
       "Index([], dtype='object')"
      ]
     },
     "execution_count": 8,
     "metadata": {},
     "output_type": "execute_result"
    }
   ],
   "source": [
    "# check we don't have missing variables\n",
    "to_filter=df.isna().sum()\n",
    "to_filter[to_filter>0].index"
   ]
  },
  {
   "cell_type": "code",
   "execution_count": 9,
   "id": "71d1a60f",
   "metadata": {},
   "outputs": [
    {
     "data": {
      "text/plain": [
       "<AxesSubplot:xlabel='w', ylabel='Density'>"
      ]
     },
     "execution_count": 9,
     "metadata": {},
     "output_type": "execute_result"
    },
    {
     "data": {
      "image/png": "[encoded data removed]",
      "text/plain": [
       "<Figure size 432x288 with 1 Axes>"
      ]
     },
     "metadata": {
      "needs_background": "light"
     },
     "output_type": "display_data"
    }
   ],
   "source": [
    "#check the distribution of wages\n",
    "sns.distplot(df.w)"
   ]
  },
  {
   "cell_type": "code",
   "execution_count": 10,
   "id": "6b30047f",
   "metadata": {},
   "outputs": [
    {
     "data": {
      "text/plain": [
       "<AxesSubplot:xlabel='lnw', ylabel='Density'>"
      ]
     },
     "execution_count": 10,
     "metadata": {},
     "output_type": "execute_result"
    },
    {
     "data": {
      "image/png": "[encoded data removed]",
      "text/plain": [
       "<Figure size 432x288 with 1 Axes>"
      ]
     },
     "metadata": {
      "needs_background": "light"
     },
     "output_type": "display_data"
    }
   ],
   "source": [
    "sns.distplot(df.lnw)"
   ]
  },
  {
   "cell_type": "markdown",
   "id": "069ec24b",
   "metadata": {},
   "source": [
    "As distribution of wage is skewed, I would use ln(wage) as a dependent variable"
   ]
  },
  {
   "cell_type": "code",
   "execution_count": 11,
   "id": "93156853",
   "metadata": {},
   "outputs": [],
   "source": [
    "def lnw_diff_by_variables2(df, factor_var, dummy_var, factor_lab, dummy_lab):\n",
    "    stats = df.groupby([factor_var, dummy_var]).agg(\n",
    "        Mean=(\"lnw\", np.mean), sd=(\"lnw\", np.std), size=(\"lnw\", \"size\")\n",
    "    )\n",
    "    stats[\"se\"] = stats[\"sd\"] / stats[\"size\"] ** (1 / 2)\n",
    "    stats[\"Mean_l\"] = stats[\"Mean\"] - (1.96 * stats[\"se\"])\n",
    "    stats[\"Mean_u\"] = stats[\"Mean\"] + (1.96 * stats[\"se\"])\n",
    "    stats = stats.drop([\"sd\", \"size\"], axis=1).reset_index()\n",
    "    plot = (\n",
    "        ggplot(\n",
    "            stats,\n",
    "            aes(\n",
    "                stats.columns[0],\n",
    "                stats.columns[2],\n",
    "                fill=\"factor(\" + stats.columns[1] + \")\",\n",
    "            ),\n",
    "        )\n",
    "        + geom_bar(stat=\"identity\", position=position_dodge(width=0.9))\n",
    "        + geom_errorbar(\n",
    "            aes(ymin=\"Mean_l\", ymax=\"Mean_u\"),\n",
    "            position=position_dodge(width=0.9),\n",
    "            width=0.25,\n",
    "        )\n",
    "      #  + scale_color_manual(name=dummy_lab, values=(\"#3a5e8cFF\", \"#10a53dFF\"))\n",
    "      #  + scale_fill_manual(name=dummy_lab, values=(\"#3a5e8cFF\", \"#10a53dFF\"))\n",
    "        + ylab(\"Mean lnw\")\n",
    "        + xlab(factor_lab)\n",
    "        + theme_bw()\n",
    "        + theme(\n",
    "            panel_grid_major=element_blank(),\n",
    "            panel_grid_minor=element_blank(),\n",
    "            panel_border=element_blank(),\n",
    "            axis_line=element_line(),\n",
    "            legend_position=\"top\",\n",
    "            legend_box=\"vertical\",\n",
    "            legend_text=element_text(size=5),\n",
    "            legend_title=element_text(size=5, face=\"bold\"),\n",
    "        )\n",
    "    )\n",
    "\n",
    "    return plot"
   ]
  },
  {
   "cell_type": "code",
   "execution_count": 12,
   "id": "f6e483c0",
   "metadata": {},
   "outputs": [
    {
     "data": {
      "image/png": "[encoded data removed]",
      "text/plain": [
       "<Figure size 640x480 with 1 Axes>"
      ]
     },
     "metadata": {},
     "output_type": "display_data"
    },
    {
     "data": {
      "text/plain": [
       "<ggplot: (166013627582)>"
      ]
     },
     "execution_count": 12,
     "metadata": {},
     "output_type": "execute_result"
    }
   ],
   "source": [
    "lnw_diff_by_variables2(df,\"female\",\"married\",\"Female\", \"Married\")"
   ]
  },
  {
   "cell_type": "code",
   "execution_count": 13,
   "id": "69f55325",
   "metadata": {},
   "outputs": [
    {
     "data": {
      "image/png": "[encoded data removed]",
      "text/plain": [
       "<Figure size 640x480 with 1 Axes>"
      ]
     },
     "metadata": {},
     "output_type": "display_data"
    },
    {
     "data": {
      "text/plain": [
       "<ggplot: (166013690567)>"
      ]
     },
     "execution_count": 13,
     "metadata": {},
     "output_type": "execute_result"
    }
   ],
   "source": [
    "lnw_diff_by_variables2(df,\"female\",\"havechild\",\"Female\", \"Have at least 1 child\")"
   ]
  },
  {
   "cell_type": "code",
   "execution_count": 14,
   "id": "9d86fb98",
   "metadata": {},
   "outputs": [
    {
     "data": {
      "image/png": "[encoded data removed]",
      "text/plain": [
       "<Figure size 640x480 with 1 Axes>"
      ]
     },
     "metadata": {},
     "output_type": "display_data"
    },
    {
     "data": {
      "text/plain": [
       "<ggplot: (166013688173)>"
      ]
     },
     "execution_count": 14,
     "metadata": {},
     "output_type": "execute_result"
    }
   ],
   "source": [
    "lnw_diff_by_variables2(df,\"female\",\"white\",\"Female\", \"White\")"
   ]
  },
  {
   "cell_type": "code",
   "execution_count": 15,
   "id": "196d49dc",
   "metadata": {},
   "outputs": [
    {
     "data": {
      "image/png": "[encoded data removed]",
      "text/plain": [
       "<Figure size 640x480 with 1 Axes>"
      ]
     },
     "metadata": {},
     "output_type": "display_data"
    },
    {
     "data": {
      "text/plain": [
       "<ggplot: (166013749724)>"
      ]
     },
     "execution_count": 15,
     "metadata": {},
     "output_type": "execute_result"
    }
   ],
   "source": [
    "lnw_diff_by_variables2(df,\"female\",\"nonUSborn\",\"Female\", \"Not born in the US\")"
   ]
  },
  {
   "cell_type": "code",
   "execution_count": 16,
   "id": "4fc99d47",
   "metadata": {},
   "outputs": [
    {
     "data": {
      "image/png": "[encoded data removed]",
      "text/plain": [
       "<Figure size 640x480 with 1 Axes>"
      ]
     },
     "metadata": {},
     "output_type": "display_data"
    },
    {
     "data": {
      "text/plain": [
       "<ggplot: (166013754938)>"
      ]
     },
     "execution_count": 16,
     "metadata": {},
     "output_type": "execute_result"
    }
   ],
   "source": [
    "lnw_diff_by_variables2(df,\"married\",\"havechild\",\"Married\", \"Have at least 1 child\")"
   ]
  },
  {
   "cell_type": "markdown",
   "id": "485e5c0e",
   "metadata": {},
   "source": [
    "### Setting up models"
   ]
  },
  {
   "cell_type": "code",
   "execution_count": 17,
   "id": "413066d0",
   "metadata": {},
   "outputs": [
    {
     "data": {
      "image/png": "[encoded data removed]",
      "text/plain": [
       "<Figure size 640x480 with 1 Axes>"
      ]
     },
     "metadata": {},
     "output_type": "display_data"
    },
    {
     "data": {
      "text/plain": [
       "<ggplot: (166013907580)>"
      ]
     },
     "execution_count": 17,
     "metadata": {},
     "output_type": "execute_result"
    }
   ],
   "source": [
    "lnw_diff_by_variables2(df,\"married\",\"white\",\"Married\", \"White\")"
   ]
  },
  {
   "cell_type": "code",
   "execution_count": 18,
   "id": "945d4b6c",
   "metadata": {},
   "outputs": [
    {
     "data": {
      "image/png": "[encoded data removed]",
      "text/plain": [
       "<Figure size 640x480 with 1 Axes>"
      ]
     },
     "metadata": {},
     "output_type": "display_data"
    },
    {
     "data": {
      "text/plain": [
       "<ggplot: (166013874448)>"
      ]
     },
     "execution_count": 18,
     "metadata": {},
     "output_type": "execute_result"
    }
   ],
   "source": [
    "lnw_diff_by_variables2(df,\"married\",\"nonUSborn\",\"Married\", \"Not born in the US\")"
   ]
  },
  {
   "cell_type": "code",
   "execution_count": 19,
   "id": "6e3def43",
   "metadata": {},
   "outputs": [
    {
     "data": {
      "image/png": "[encoded data removed]",
      "text/plain": [
       "<Figure size 640x480 with 1 Axes>"
      ]
     },
     "metadata": {},
     "output_type": "display_data"
    },
    {
     "data": {
      "text/plain": [
       "<ggplot: (166013908782)>"
      ]
     },
     "execution_count": 19,
     "metadata": {},
     "output_type": "execute_result"
    }
   ],
   "source": [
    "lnw_diff_by_variables2(df,\"havechild\",\"nonUSborn\",\"Have at least 1 child\", \"Not born in the US\")"
   ]
  },
  {
   "cell_type": "code",
   "execution_count": 20,
   "id": "2c52a17d",
   "metadata": {},
   "outputs": [
    {
     "data": {
      "image/png": "[encoded data removed]",
      "text/plain": [
       "<Figure size 640x480 with 1 Axes>"
      ]
     },
     "metadata": {},
     "output_type": "display_data"
    },
    {
     "data": {
      "text/plain": [
       "<ggplot: (166014109172)>"
      ]
     },
     "execution_count": 20,
     "metadata": {},
     "output_type": "execute_result"
    }
   ],
   "source": [
    "lnw_diff_by_variables2(df,\"havechild\",\"white\",\"Have at least 1 child\", \"White\")"
   ]
  },
  {
   "cell_type": "code",
   "execution_count": 21,
   "id": "ee0612f0",
   "metadata": {},
   "outputs": [
    {
     "data": {
      "image/png": "[encoded data removed]",
      "text/plain": [
       "<Figure size 640x480 with 1 Axes>"
      ]
     },
     "metadata": {},
     "output_type": "display_data"
    },
    {
     "data": {
      "text/plain": [
       "<ggplot: (166014154677)>"
      ]
     },
     "execution_count": 21,
     "metadata": {},
     "output_type": "execute_result"
    }
   ],
   "source": [
    "lnw_diff_by_variables2(df,\"nonUSborn\",\"white\",\"Not born in the US\", \"White\")"
   ]
  },
  {
   "cell_type": "code",
   "execution_count": 87,
   "id": "726900f1",
   "metadata": {},
   "outputs": [
    {
     "data": {
      "image/png": "[encoded data removed]",
      "text/plain": [
       "<Figure size 640x480 with 1 Axes>"
      ]
     },
     "metadata": {},
     "output_type": "display_data"
    },
    {
     "data": {
      "text/plain": [
       "<ggplot: (166014879678)>"
      ]
     },
     "execution_count": 87,
     "metadata": {},
     "output_type": "execute_result"
    }
   ],
   "source": [
    "lnw_diff_by_variables2(df,\"female\",\"asian\",\"Not born in the US\", \"White\")"
   ]
  },
  {
   "cell_type": "code",
   "execution_count": 108,
   "id": "7a951bc7",
   "metadata": {},
   "outputs": [],
   "source": [
    "basic_lev = (\n",
    "    \"female\",\n",
    "    \"age\",\n",
    "    \"educ\"\n",
    ")\n",
    "race_dummies = (\"afram\", \"asian\", \"hisp\", 'othernonw')\n",
    "age_poly = (\"agesq\", \"agecu\")\n",
    "educ_poly = (\"educsq\", \"educcu\")\n",
    "other_variables = (\"havechild\", \"nonUSborn\")\n",
    "\n",
    "# interactions suggested by graphs\n",
    "X1=(\"female*married\", \"female*havechild\", \n",
    "    \"married*havechild\", \"married*nonUSborn\",\n",
    "    \"havechild*nonUSborn\")\n",
    "\n",
    "# race interactions + not suggested by graphs\n",
    "X2=(\"havechild*nonUSborn\",\"female*nonUSborn\",\n",
    "    \"afram*female\",\"afram*married\",\"afram*havechild\",\"afram*nonUSborn\",\n",
    "    \"asian*female\",\"asian*married\",\"asian*havechild\",\"asian*nonUSborn\",\n",
    "    \"hisp*female\",\"hisp*married\",\"hisp*havechild\",\"hisp*nonUSborn\",\n",
    "    \"othernonw*female\",\"othernonw*married\",\"othernonw*havechild\",\"othernonw*nonUSborn\")"
   ]
  },
  {
   "cell_type": "code",
   "execution_count": 109,
   "id": "3653f51e",
   "metadata": {},
   "outputs": [],
   "source": [
    "modellev1=\"~\"+\"+\".join(basic_lev)\n",
    "modellev2=\"~\"+\"+\".join(basic_lev)+\"+\"+\"+\".join(age_poly)+\"+\"+\"+\".join(educ_poly)\n",
    "modellev3=\"~\"+\"+\".join(basic_lev)+\"+\"+\"+\".join(age_poly)+\"+\"+\"+\".join(educ_poly)+\"+\"+\"+\".join(other_variables)+\"+\"+\"+\".join(X1)\n",
    "modellev4=\"~\"+\"+\".join(basic_lev)+\"+\"+\"+\".join(age_poly)+\"+\"+\"+\".join(educ_poly)+\"+\"+\"+\".join(other_variables)+\"+\"+\"+\".join(X1)+\"+\"+\"+\".join(X2)"
   ]
  },
  {
   "cell_type": "markdown",
   "id": "f6fe72a0",
   "metadata": {},
   "source": [
    "### Separate hold-out set"
   ]
  },
  {
   "cell_type": "code",
   "execution_count": 110,
   "id": "7cf70bf6",
   "metadata": {},
   "outputs": [],
   "source": [
    "#################################\n",
    "# Separate hold-out set #\n",
    "#################################\n",
    "smp_size = round(0.2 * df.shape[0])-1"
   ]
  },
  {
   "cell_type": "code",
   "execution_count": 111,
   "id": "f5547748",
   "metadata": {},
   "outputs": [],
   "source": [
    "# Set the random number generator: It will make results reproducable\n",
    "np.random.seed(20180123)"
   ]
  },
  {
   "cell_type": "code",
   "execution_count": 112,
   "id": "6c420972",
   "metadata": {},
   "outputs": [],
   "source": [
    "from sklearn.model_selection import train_test_split"
   ]
  },
  {
   "cell_type": "code",
   "execution_count": 113,
   "id": "d7217b0f",
   "metadata": {},
   "outputs": [],
   "source": [
    "data_work,data_holdout=train_test_split(df, test_size=smp_size)"
   ]
  },
  {
   "cell_type": "markdown",
   "id": "49d62970",
   "metadata": {},
   "source": [
    "### Cross validated RMSE"
   ]
  },
  {
   "cell_type": "code",
   "execution_count": 114,
   "id": "b5fa2c2a",
   "metadata": {},
   "outputs": [],
   "source": [
    "n_folds=5"
   ]
  },
  {
   "cell_type": "code",
   "execution_count": 115,
   "id": "ff82bd1d",
   "metadata": {},
   "outputs": [],
   "source": [
    "from sklearn.model_selection import KFold\n",
    "from statsmodels.tools.eval_measures import mse,rmse\n",
    "k = KFold(n_splits=n_folds, shuffle=False, random_state=None)"
   ]
  },
  {
   "cell_type": "code",
   "execution_count": 116,
   "id": "e1bc71fd",
   "metadata": {},
   "outputs": [],
   "source": [
    "def cv_reg(formula, data, kfold, testdata, robustse=None):\n",
    "    regression_list = []\n",
    "    predicts_on_test = []\n",
    "    rsquared = []\n",
    "    rmse_list = []\n",
    "    rmse_list_test = []\n",
    "\n",
    "    # Calculating OLS for each fold\n",
    "\n",
    "    for train_index, test_index in k.split(data):\n",
    "        # print(\"TRAIN:\", train_index, \"TEST:\", test_index)\n",
    "        data_train, data_test = data.iloc[train_index, :], data.iloc[test_index, :]\n",
    "        if robustse is None:\n",
    "            model = smf.ols(formula, data=data_train).fit()\n",
    "        else:\n",
    "            model = smf.ols(formula, data=data_train).fit(cov_type=robustse)\n",
    "        regression_list += [model]\n",
    "        predicts_on_test += [model.predict(data_test)]\n",
    "        rsquared += [model.rsquared]\n",
    "\n",
    "        rmse_tr = pd.concat(\n",
    "            [data_train[\"lnw\"], model.predict(data_train)],\n",
    "            axis=1,\n",
    "            keys=[\"lnw\", \"predicted\"],\n",
    "        )\n",
    "        rmse_tr = rmse_tr[~rmse_tr.isna().any(axis=1)]\n",
    "\n",
    "        rmse_te = pd.concat(\n",
    "            [data_test[\"lnw\"], model.predict(data_test)],\n",
    "            axis=1,\n",
    "            keys=[\"lnw\", \"predicted\"],\n",
    "        )\n",
    "        rmse_te = rmse_te[~rmse_te.isna().any(axis=1)]\n",
    "\n",
    "        rmse_list += [rmse(rmse_tr[\"lnw\"], rmse_tr[\"predicted\"], axis=0)]\n",
    "        rmse_list_test += [rmse(rmse_te[\"lnw\"], rmse_te[\"predicted\"], axis=0)]\n",
    "    nvars = model.df_model\n",
    "\n",
    "    return {\n",
    "        \"regressions\": regression_list,\n",
    "        \"test_predict\": predicts_on_test,\n",
    "        \"r2\": rsquared,\n",
    "        \"rmse\": rmse_list,\n",
    "        \"rmse_test\": rmse_list_test,\n",
    "        \"nvars\": nvars,\n",
    "    }\n",
    "\n",
    "\n",
    "def summarize_cv(cvlist, stat=\"rmse\"):\n",
    "    result = pd.DataFrame(\n",
    "        {\"Model\" + str(x + 1): cvlist[x][stat] for x in range(len(cvlist))}\n",
    "    )\n",
    "    result[\"Resample\"] = [\"Fold\" + str(x + 1) for x in range(len(cvlist[0][\"rmse\"]))]\n",
    "    result = result.set_index(\"Resample\")\n",
    "    result = pd.concat([result, pd.DataFrame(result.mean(), columns=[\"Average\"]).T])\n",
    "    return result"
   ]
  },
  {
   "cell_type": "code",
   "execution_count": 117,
   "id": "f4fbb488",
   "metadata": {},
   "outputs": [],
   "source": [
    "cv_list = []\n",
    "for i in [\n",
    "    modellev1,\n",
    "    modellev2,\n",
    "    modellev3,\n",
    "    modellev4,\n",
    "]:\n",
    "    cv_list += [cv_reg(\"lnw\" + i, data_work, k, \"HC0\")]"
   ]
  },
  {
   "cell_type": "code",
   "execution_count": 118,
   "id": "ec39caad",
   "metadata": {},
   "outputs": [
    {
     "data": {
      "text/html": [
       "<div>\n",
       "<style scoped>\n",
       "    .dataframe tbody tr th:only-of-type {\n",
       "        vertical-align: middle;\n",
       "    }\n",
       "\n",
       "    .dataframe tbody tr th {\n",
       "        vertical-align: top;\n",
       "    }\n",
       "\n",
       "    .dataframe thead th {\n",
       "        text-align: right;\n",
       "    }\n",
       "</style>\n",
       "<table border=\"1\" class=\"dataframe\">\n",
       "  <thead>\n",
       "    <tr style=\"text-align: right;\">\n",
       "      <th></th>\n",
       "      <th>Model1</th>\n",
       "      <th>Model2</th>\n",
       "      <th>Model3</th>\n",
       "      <th>Model4</th>\n",
       "    </tr>\n",
       "  </thead>\n",
       "  <tbody>\n",
       "    <tr>\n",
       "      <th>Fold1</th>\n",
       "      <td>0.550254</td>\n",
       "      <td>0.544153</td>\n",
       "      <td>0.541837</td>\n",
       "      <td>0.538278</td>\n",
       "    </tr>\n",
       "    <tr>\n",
       "      <th>Fold2</th>\n",
       "      <td>0.564869</td>\n",
       "      <td>0.561989</td>\n",
       "      <td>0.558292</td>\n",
       "      <td>0.553196</td>\n",
       "    </tr>\n",
       "    <tr>\n",
       "      <th>Fold3</th>\n",
       "      <td>0.579014</td>\n",
       "      <td>0.574480</td>\n",
       "      <td>0.569703</td>\n",
       "      <td>0.566454</td>\n",
       "    </tr>\n",
       "    <tr>\n",
       "      <th>Fold4</th>\n",
       "      <td>0.607446</td>\n",
       "      <td>0.601821</td>\n",
       "      <td>0.598811</td>\n",
       "      <td>0.594415</td>\n",
       "    </tr>\n",
       "    <tr>\n",
       "      <th>Fold5</th>\n",
       "      <td>0.570803</td>\n",
       "      <td>0.566854</td>\n",
       "      <td>0.563494</td>\n",
       "      <td>0.558804</td>\n",
       "    </tr>\n",
       "    <tr>\n",
       "      <th>Average</th>\n",
       "      <td>0.574477</td>\n",
       "      <td>0.569860</td>\n",
       "      <td>0.566427</td>\n",
       "      <td>0.562230</td>\n",
       "    </tr>\n",
       "  </tbody>\n",
       "</table>\n",
       "</div>"
      ],
      "text/plain": [
       "           Model1    Model2    Model3    Model4\n",
       "Fold1    0.550254  0.544153  0.541837  0.538278\n",
       "Fold2    0.564869  0.561989  0.558292  0.553196\n",
       "Fold3    0.579014  0.574480  0.569703  0.566454\n",
       "Fold4    0.607446  0.601821  0.598811  0.594415\n",
       "Fold5    0.570803  0.566854  0.563494  0.558804\n",
       "Average  0.574477  0.569860  0.566427  0.562230"
      ]
     },
     "execution_count": 118,
     "metadata": {},
     "output_type": "execute_result"
    }
   ],
   "source": [
    "summarize_cv(cv_list)"
   ]
  },
  {
   "cell_type": "code",
   "execution_count": 119,
   "id": "c641e9e2",
   "metadata": {},
   "outputs": [],
   "source": [
    "# RMSE training vs test graph\n",
    "rmse_levels = {\"nvars\": [], \"var\": [], \"value\": []}\n",
    "for i in range(0, 4):\n",
    "    rmse_levels[\"nvars\"].append(int(cv_list[i][\"nvars\"]))\n",
    "    rmse_levels[\"var\"].append(\"RMSE Training\")\n",
    "    rmse_levels[\"value\"].append(pd.Series(cv_list[i][\"rmse\"]).mean())\n",
    "for i in range(0, 4):\n",
    "    rmse_levels[\"nvars\"].append(int(cv_list[i][\"nvars\"]))\n",
    "    rmse_levels[\"var\"].append(\"RMSE Test\")\n",
    "    rmse_levels[\"value\"].append(pd.Series(cv_list[i][\"rmse_test\"]).mean())\n",
    "rmse_levels = pd.DataFrame.from_dict(rmse_levels)\n",
    "rmse_levels[\"nvars2\"] = rmse_levels[\"nvars\"] + 1"
   ]
  },
  {
   "cell_type": "code",
   "execution_count": 120,
   "id": "91097f36",
   "metadata": {},
   "outputs": [
    {
     "data": {
      "image/png": "[encoded data removed]",
      "text/plain": [
       "<Figure size 640x480 with 1 Axes>"
      ]
     },
     "metadata": {},
     "output_type": "display_data"
    },
    {
     "data": {
      "text/plain": [
       "<ggplot: (166014696891)>"
      ]
     },
     "execution_count": 120,
     "metadata": {},
     "output_type": "execute_result"
    }
   ],
   "source": [
    "(\n",
    "    ggplot(rmse_levels, aes(x=\"factor(nvars2)\", y=\"value\", color=\"var\", group=\"var\"))\n",
    "    + geom_line(size=1, show_legend=True, na_rm=True)\n",
    "    + scale_color_manual(name=\"\", values=(\"#3a5e8cFF\", \"#10a53dFF\"))\n",
    "    #+ scale_y_continuous(name=\"RMSE\", limits=(26, 50))#, breaks=seq(26, 50, 2))\n",
    "    + scale_x_discrete(\n",
    "        name=\"Number of coefficients\",\n",
    "        expand=(0.01, 0.01)\n",
    "        # ) + geom_dl(aes(label = var),  method = list(\"last.points\", dl.trans(x=x-1), cex=0.4)\n",
    "    )\n",
    "    + theme_bw()\n",
    ")"
   ]
  },
  {
   "cell_type": "code",
   "execution_count": 121,
   "id": "b05d8daa",
   "metadata": {},
   "outputs": [
    {
     "data": {
      "text/html": [
       "<div>\n",
       "<style scoped>\n",
       "    .dataframe tbody tr th:only-of-type {\n",
       "        vertical-align: middle;\n",
       "    }\n",
       "\n",
       "    .dataframe tbody tr th {\n",
       "        vertical-align: top;\n",
       "    }\n",
       "\n",
       "    .dataframe thead th {\n",
       "        text-align: right;\n",
       "    }\n",
       "</style>\n",
       "<table border=\"1\" class=\"dataframe\">\n",
       "  <thead>\n",
       "    <tr style=\"text-align: right;\">\n",
       "      <th></th>\n",
       "      <th>CV RMSE</th>\n",
       "    </tr>\n",
       "  </thead>\n",
       "  <tbody>\n",
       "    <tr>\n",
       "      <th>Model1</th>\n",
       "      <td>0.574477</td>\n",
       "    </tr>\n",
       "    <tr>\n",
       "      <th>Model2</th>\n",
       "      <td>0.569860</td>\n",
       "    </tr>\n",
       "    <tr>\n",
       "      <th>Model3</th>\n",
       "      <td>0.566427</td>\n",
       "    </tr>\n",
       "    <tr>\n",
       "      <th>Model4</th>\n",
       "      <td>0.562230</td>\n",
       "    </tr>\n",
       "  </tbody>\n",
       "</table>\n",
       "</div>"
      ],
      "text/plain": [
       "         CV RMSE\n",
       "Model1  0.574477\n",
       "Model2  0.569860\n",
       "Model3  0.566427\n",
       "Model4  0.562230"
      ]
     },
     "execution_count": 121,
     "metadata": {},
     "output_type": "execute_result"
    }
   ],
   "source": [
    "results = summarize_cv(cv_list).T\n",
    "results.rename(\n",
    "    columns={\n",
    "        \"Average\": \"CV RMSE\",\n",
    "    },\n",
    "    inplace=True,\n",
    ")\n",
    "results = results[[\"CV RMSE\"]]\n",
    "results"
   ]
  },
  {
   "cell_type": "markdown",
   "id": "9a8c8085",
   "metadata": {},
   "source": [
    "#### Cross-validated RMSE suggests that the model 4 has a better performance"
   ]
  },
  {
   "cell_type": "markdown",
   "id": "d9d28178",
   "metadata": {},
   "source": [
    "### BIC in the full sample"
   ]
  },
  {
   "cell_type": "code",
   "execution_count": 122,
   "id": "e7deef8d",
   "metadata": {},
   "outputs": [],
   "source": [
    "reg1 = smf.ols(formula=\"lnw\" + modellev1, data=df).fit(cov_type=\"HC1\")\n",
    "reg2 = smf.ols(formula=\"lnw\" + modellev2, data=df).fit(cov_type=\"HC1\")\n",
    "reg3 = smf.ols(formula=\"lnw\" + modellev3, data=df).fit(cov_type=\"HC1\")\n",
    "reg4 = smf.ols(formula=\"lnw\" + modellev4, data=df).fit(cov_type=\"HC1\")"
   ]
  },
  {
   "cell_type": "code",
   "execution_count": 123,
   "id": "25bdc604",
   "metadata": {},
   "outputs": [],
   "source": [
    "bic_results = [reg1.bic , reg2.bic, reg3.bic, reg4.bic]\n",
    "results[\"BIC\"] = bic_results"
   ]
  },
  {
   "cell_type": "code",
   "execution_count": 124,
   "id": "618bebad",
   "metadata": {},
   "outputs": [
    {
     "data": {
      "text/html": [
       "<div>\n",
       "<style scoped>\n",
       "    .dataframe tbody tr th:only-of-type {\n",
       "        vertical-align: middle;\n",
       "    }\n",
       "\n",
       "    .dataframe tbody tr th {\n",
       "        vertical-align: top;\n",
       "    }\n",
       "\n",
       "    .dataframe thead th {\n",
       "        text-align: right;\n",
       "    }\n",
       "</style>\n",
       "<table border=\"1\" class=\"dataframe\">\n",
       "  <thead>\n",
       "    <tr style=\"text-align: right;\">\n",
       "      <th></th>\n",
       "      <th>CV RMSE</th>\n",
       "      <th>BIC</th>\n",
       "    </tr>\n",
       "  </thead>\n",
       "  <tbody>\n",
       "    <tr>\n",
       "      <th>Model1</th>\n",
       "      <td>0.574477</td>\n",
       "      <td>6087.424893</td>\n",
       "    </tr>\n",
       "    <tr>\n",
       "      <th>Model2</th>\n",
       "      <td>0.569860</td>\n",
       "      <td>6058.663258</td>\n",
       "    </tr>\n",
       "    <tr>\n",
       "      <th>Model3</th>\n",
       "      <td>0.566427</td>\n",
       "      <td>6100.126478</td>\n",
       "    </tr>\n",
       "    <tr>\n",
       "      <th>Model4</th>\n",
       "      <td>0.562230</td>\n",
       "      <td>6234.398213</td>\n",
       "    </tr>\n",
       "  </tbody>\n",
       "</table>\n",
       "</div>"
      ],
      "text/plain": [
       "         CV RMSE          BIC\n",
       "Model1  0.574477  6087.424893\n",
       "Model2  0.569860  6058.663258\n",
       "Model3  0.566427  6100.126478\n",
       "Model4  0.562230  6234.398213"
      ]
     },
     "execution_count": 124,
     "metadata": {},
     "output_type": "execute_result"
    }
   ],
   "source": [
    "results"
   ]
  },
  {
   "cell_type": "markdown",
   "id": "df7b2b2e",
   "metadata": {},
   "source": [
    "#### BIC suggests that the model 2 has the best performance."
   ]
  },
  {
   "cell_type": "markdown",
   "id": "669803db",
   "metadata": {},
   "source": [
    "### RMSE in the full sample"
   ]
  },
  {
   "cell_type": "code",
   "execution_count": 125,
   "id": "3ffe6700",
   "metadata": {},
   "outputs": [],
   "source": [
    "RMSE_results = [rmse(df[\"lnw\"],reg1.predict()),\n",
    "                rmse(df[\"lnw\"],reg2.predict()),\n",
    "                rmse(df[\"lnw\"],reg3.predict()),\n",
    "                rmse(df[\"lnw\"],reg4.predict())]\n",
    "results[\"RMSE\"] = RMSE_results"
   ]
  },
  {
   "cell_type": "code",
   "execution_count": 126,
   "id": "776a7910",
   "metadata": {},
   "outputs": [
    {
     "data": {
      "text/html": [
       "<div>\n",
       "<style scoped>\n",
       "    .dataframe tbody tr th:only-of-type {\n",
       "        vertical-align: middle;\n",
       "    }\n",
       "\n",
       "    .dataframe tbody tr th {\n",
       "        vertical-align: top;\n",
       "    }\n",
       "\n",
       "    .dataframe thead th {\n",
       "        text-align: right;\n",
       "    }\n",
       "</style>\n",
       "<table border=\"1\" class=\"dataframe\">\n",
       "  <thead>\n",
       "    <tr style=\"text-align: right;\">\n",
       "      <th></th>\n",
       "      <th>CV RMSE</th>\n",
       "      <th>BIC</th>\n",
       "      <th>RMSE</th>\n",
       "    </tr>\n",
       "  </thead>\n",
       "  <tbody>\n",
       "    <tr>\n",
       "      <th>Model1</th>\n",
       "      <td>0.574477</td>\n",
       "      <td>6087.424893</td>\n",
       "      <td>0.588864</td>\n",
       "    </tr>\n",
       "    <tr>\n",
       "      <th>Model2</th>\n",
       "      <td>0.569860</td>\n",
       "      <td>6058.663258</td>\n",
       "      <td>0.583587</td>\n",
       "    </tr>\n",
       "    <tr>\n",
       "      <th>Model3</th>\n",
       "      <td>0.566427</td>\n",
       "      <td>6100.126478</td>\n",
       "      <td>0.581567</td>\n",
       "    </tr>\n",
       "    <tr>\n",
       "      <th>Model4</th>\n",
       "      <td>0.562230</td>\n",
       "      <td>6234.398213</td>\n",
       "      <td>0.578456</td>\n",
       "    </tr>\n",
       "  </tbody>\n",
       "</table>\n",
       "</div>"
      ],
      "text/plain": [
       "         CV RMSE          BIC      RMSE\n",
       "Model1  0.574477  6087.424893  0.588864\n",
       "Model2  0.569860  6058.663258  0.583587\n",
       "Model3  0.566427  6100.126478  0.581567\n",
       "Model4  0.562230  6234.398213  0.578456"
      ]
     },
     "execution_count": 126,
     "metadata": {},
     "output_type": "execute_result"
    }
   ],
   "source": [
    "results"
   ]
  },
  {
   "cell_type": "markdown",
   "id": "ed74844d",
   "metadata": {},
   "source": [
    "#### RMSE suggests that the model 4 has the best performance"
   ]
  },
  {
   "cell_type": "markdown",
   "id": "8f21535e",
   "metadata": {},
   "source": [
    "### Results"
   ]
  },
  {
   "cell_type": "code",
   "execution_count": 127,
   "id": "07b83eb8",
   "metadata": {},
   "outputs": [
    {
     "data": {
      "text/html": [
       "<div>\n",
       "<style scoped>\n",
       "    .dataframe tbody tr th:only-of-type {\n",
       "        vertical-align: middle;\n",
       "    }\n",
       "\n",
       "    .dataframe tbody tr th {\n",
       "        vertical-align: top;\n",
       "    }\n",
       "\n",
       "    .dataframe thead th {\n",
       "        text-align: right;\n",
       "    }\n",
       "</style>\n",
       "<table border=\"1\" class=\"dataframe\">\n",
       "  <thead>\n",
       "    <tr style=\"text-align: right;\">\n",
       "      <th></th>\n",
       "      <th>CV RMSE</th>\n",
       "      <th>BIC</th>\n",
       "      <th>RMSE</th>\n",
       "    </tr>\n",
       "  </thead>\n",
       "  <tbody>\n",
       "    <tr>\n",
       "      <th>Model1</th>\n",
       "      <td>0.574477</td>\n",
       "      <td>6087.424893</td>\n",
       "      <td>0.588864</td>\n",
       "    </tr>\n",
       "    <tr>\n",
       "      <th>Model2</th>\n",
       "      <td>0.569860</td>\n",
       "      <td>6058.663258</td>\n",
       "      <td>0.583587</td>\n",
       "    </tr>\n",
       "    <tr>\n",
       "      <th>Model3</th>\n",
       "      <td>0.566427</td>\n",
       "      <td>6100.126478</td>\n",
       "      <td>0.581567</td>\n",
       "    </tr>\n",
       "    <tr>\n",
       "      <th>Model4</th>\n",
       "      <td>0.562230</td>\n",
       "      <td>6234.398213</td>\n",
       "      <td>0.578456</td>\n",
       "    </tr>\n",
       "  </tbody>\n",
       "</table>\n",
       "</div>"
      ],
      "text/plain": [
       "         CV RMSE          BIC      RMSE\n",
       "Model1  0.574477  6087.424893  0.588864\n",
       "Model2  0.569860  6058.663258  0.583587\n",
       "Model3  0.566427  6100.126478  0.581567\n",
       "Model4  0.562230  6234.398213  0.578456"
      ]
     },
     "execution_count": 127,
     "metadata": {},
     "output_type": "execute_result"
    }
   ],
   "source": [
    "results"
   ]
  },
  {
   "cell_type": "markdown",
   "id": "9bacb67c",
   "metadata": {},
   "source": [
    "#### Cross validated RMSE and RMSE suggest that the last model has the best performance whereas BIC suggests that the model 2 has the best performance"
   ]
  }
 ],
 "metadata": {
  "kernelspec": {
   "display_name": "Python 3 (ipykernel)",
   "language": "python",
   "name": "python3"
  },
  "language_info": {
   "codemirror_mode": {
    "name": "ipython",
    "version": 3
   },
   "file_extension": ".py",
   "mimetype": "text/x-python",
   "name": "python",
   "nbconvert_exporter": "python",
   "pygments_lexer": "ipython3",
   "version": "3.8.3"
  }
 },
 "nbformat": 4,
 "nbformat_minor": 5
}
