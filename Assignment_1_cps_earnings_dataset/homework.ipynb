{
 "cells": [
  {
   "cell_type": "markdown",
   "id": "c122c97c",
   "metadata": {},
   "source": [
    "# Assignment 1\n",
    "\n",
    "This is an individual assignment, but you may collaborate with team mates on getting to know the data. \n",
    "\n",
    "## The dataset\n",
    "\n",
    "Consider the cps-earnings dataset  at https://osf.io/g8p9j/ (Cross section. N=149 316 individuals)\n",
    "\n",
    "Pick an occupation and filter data accordingly. You must all pick different occupations / occupation individually.  \n",
    "Occupation codes are here: https://osf.io/57n9q/\n",
    "You may merge occupations as you see fit (ie all tax/insurance specialists, etc). \n",
    "You can see some ideas working with this code here.\n",
    "\n",
    "https://github.com/gabors-data-analysis/da_case_studies/tree/master/ch09-gender-age-earnings\n",
    "https://github.com/gabors-data-analysis/da_case_studies/tree/master/ch10-gender-earnings-understand\n",
    "## Tasks\n",
    "\n",
    "Build four predictive models using linear regression for earnings per hour. \n",
    "\n",
    "1. Models: the target variable is earnings per hour, all others would be predictors.\n",
    "2. Model 1 shall be the simplest, model 4 the more complex. It shall be OLS. You shall explain your choice of predictors.\n",
    "3. Compare model performance of these models (a) RMSE in the full sample, (2) cross-validated RMSE and (c) BIC in the full sample. \n",
    "4. Discuss the relationship between model complexity and performance. You may use visual aids. \n",
    "5. You should submit your code in Github and 1 page report in pdf on Moodle. \n",
    "\n",
    "Work individually. But you may collaborate in your support group, check and comment (add issues) on each other code.\n",
    "\n",
    "## Hints re Git and commit\n",
    "\n",
    "Committing is a habit, and people may have different ways. \n",
    "\n",
    "Some people commit very frequently, others less so. \n",
    "We basically expect you to have a few commits, one per major parts of the exercise. The first commit will set up the the folder/file for A1. \n",
    "Then you can commit, say data work, descriptives, graphics, and regressions. And then, commit your edits. \n",
    "Make sure the commit text is short but meaningful: Good: \"adding graphs\", \"calculate RMSE\", \"edit typos\". Bad: \"update\"\n",
    "Grading\n",
    "\n",
    "This assignment is worth 20 points. \n",
    "\n",
    "* 5 points will be for Git use. \n",
    "* 10 points will be technical aspects the analysis \n",
    "* 5 points will be based on your report"
   ]
  },
  {
   "cell_type": "markdown",
   "id": "bcd663e2",
   "metadata": {},
   "source": [
    "### Setting up directories and import packages"
   ]
  },
  {
   "cell_type": "code",
   "execution_count": 31,
   "id": "d035d562",
   "metadata": {},
   "outputs": [],
   "source": [
    "### SETTING UP DIRECTORIES\n",
    "\n",
    "# import packages\n",
    "import pandas as pd\n",
    "import os\n",
    "import numpy as np\n",
    "import sys\n",
    "import warnings\n",
    "\n",
    "from mizani.formatters import percent_format\n",
    "from plotnine import *\n",
    "from datetime import datetime\n",
    "import statsmodels.api as sm\n",
    "import statsmodels.formula.api as smf\n",
    "from mizani import transforms\n",
    "from scipy.stats import norm\n",
    "from IPython.core.display import HTML\n",
    "from stargazer.stargazer import Stargazer\n",
    "import statsmodels.nonparametric.kernel_regression as loess\n",
    "import seaborn as sns\n",
    "from mizani.formatters import percent_format\n",
    "import regex as re\n",
    "\n",
    "warnings.filterwarnings(\"ignore\")\n",
    "\n",
    "# set working directory for da_data_repo -- replace the\n",
    "os.chdir('C:\\\\Users\\\\77774\\\\Documents\\\\GitHub\\\\Prediction_with_ML_for_Economists\\\\Assignment_1_cps_earnings_dataset')\n",
    "\n",
    "# location folders\n",
    "data_in = \"C:\\\\Users\\\\77774\\\\Documents\\\\GitHub\\\\Prediction_with_ML_for_Economists\\\\Assignment_1_cps_earnings_dataset\\\\clean\\\\\"\n",
    "data_out = \"C:\\\\Users\\\\77774\\\\Documents\\\\GitHub\\\\Prediction_with_ML_for_Economists\\\\Assignment_1_cps_earnings_dataset\\\\clean\\\\\"\n",
    "results = \"C:\\\\Users\\\\77774\\\\Documents\\\\GitHub\\\\Prediction_with_ML_for_Economists\\\\Assignment_1_cps_earnings_dataset\\\\results\\\\\""
   ]
  },
  {
   "cell_type": "code",
   "execution_count": 94,
   "id": "8e7278e7",
   "metadata": {},
   "outputs": [],
   "source": [
    "# load dataset (as unicode, to avoid size and memor warnings)\n",
    "\n",
    "df = pd.read_csv(\n",
    "    data_in + \"morg-2014-emp.csv\",\n",
    "    quotechar='\"',\n",
    "    delimiter=\",\",\n",
    "    encoding=\"utf-8\",\n",
    "#    dtype = \"unicode\"\n",
    ")"
   ]
  },
  {
   "cell_type": "markdown",
   "id": "337eb814",
   "metadata": {},
   "source": [
    "### Prepare data"
   ]
  },
  {
   "cell_type": "code",
   "execution_count": 95,
   "id": "ac6467fa",
   "metadata": {},
   "outputs": [],
   "source": [
    "# Keep only financial specialists\n",
    "\n",
    "df.loc[\n",
    "    ((df[\"occ2012\"] >= 800) & (df[\"occ2012\"] <= 950)), \"sample\"\n",
    "] = 1\n",
    "df.loc[df[\"sample\"].isna(), \"sample\"] = 0\n",
    "\n",
    "df = df.loc[\n",
    "    (df[\"sample\"] == 1), :\n",
    "].reset_index(drop=True)"
   ]
  },
  {
   "cell_type": "code",
   "execution_count": 96,
   "id": "b24bfefa",
   "metadata": {},
   "outputs": [],
   "source": [
    "#create some variables\n",
    "\n",
    "#female\n",
    "df[\"female\"] = (df.sex == 2).astype(int)\n",
    "\n",
    "#w and lnw\n",
    "df[\"w\"] = df[\"earnwke\"] / df[\"uhours\"]\n",
    "df[\"lnw\"] = np.log(df[\"w\"])\n",
    "\n",
    "#age forms\n",
    "df[\"agesq\"] = np.power(df[\"age\"], 2)\n",
    "df[\"agecu\"] = np.power(df[\"age\"], 3)\n",
    "df[\"agequ\"] = np.power(df[\"age\"], 4)\n",
    "\n",
    "#married\n",
    "df['married'] = (df.marital <= 4).astype(int)\n",
    "\n",
    "#race\n",
    "df[\"white\"] = (df[\"race\"] == 1).astype(int)\n",
    "df[\"afram\"] = (df[\"race\"] == 2).astype(int)\n",
    "df[\"asian\"] = (df[\"race\"] == 4).astype(int)\n",
    "df[\"hisp\"] = (df[\"ethnic\"].notna()).astype(int)\n",
    "df[\"othernonw\"] = (\n",
    "    (df[\"white\"] == 0) & (df[\"afram\"] == 0) & (df[\"asian\"] == 0) & (df[\"hisp\"] == 0)\n",
    ").astype(int)\n",
    "\n",
    "#nonUSborn\n",
    "df[\"nonUSborn\"] = (\n",
    "    (df[\"prcitshp\"] == \"Foreign Born, US Cit By Naturalization\")\n",
    "    | (df[\"prcitshp\"] == \"Foreign Born, Not a US Citizen\")\n",
    ").astype(int)\n",
    "\n",
    "#havechild = at least 1 child\n",
    "df['havechild']=(df['chldpres']>0).astype(int)"
   ]
  },
  {
   "cell_type": "code",
   "execution_count": 97,
   "id": "21c3c2e2",
   "metadata": {},
   "outputs": [],
   "source": [
    "# transform grade92 to educ (which will be measured in years)\n",
    "# create a list of our conditions\n",
    "conditions = [\n",
    "    (df['grade92'] == 31),\n",
    "    (df['grade92'] == 32),\n",
    "    (df['grade92'] == 33),\n",
    "    (df['grade92'] == 34),\n",
    "    (df['grade92'] == 35),\n",
    "    (df['grade92'] == 36),\n",
    "    (df['grade92'] == 37),\n",
    "    (df['grade92'] == 38),\n",
    "    (df['grade92'] == 39),\n",
    "    (df['grade92'] == 40),\n",
    "    (df['grade92'] == 41),\n",
    "    (df['grade92'] == 42),\n",
    "    (df['grade92'] == 43),\n",
    "    (df['grade92'] == 44),\n",
    "    (df['grade92'] == 45),\n",
    "    (df['grade92'] == 46)\n",
    "    ]\n",
    "\n",
    "# create a list of the values we want to assign for each condition\n",
    "values = [1, 4, 6, 8, 9, 10, 11, 12, 13, 14, 15, 15, 16, 18, 18, 20]\n",
    "\n",
    "# create a new column and use np.select to assign values to it using our lists as arguments\n",
    "df['educ'] = np.select(conditions, values)\n",
    "df['educsq'] = np.power(df[\"educ\"], 2)\n",
    "df['educcu'] = np.power(df[\"educ\"], 3)\n",
    "df['educqu'] = np.power(df[\"educ\"], 4)\n"
   ]
  },
  {
   "cell_type": "code",
   "execution_count": 98,
   "id": "51a3c6fd",
   "metadata": {},
   "outputs": [],
   "source": [
    "# remove columns we don't need\n",
    "df= df[\n",
    "    [\n",
    "\n",
    "'earnwke' ,\n",
    "'uhours'   ,     \n",
    "'age'      ,            \n",
    "'occ2012'   ,        \n",
    "'female'    ,     \n",
    "'w'         ,   \n",
    "'lnw'     ,     \n",
    "'agesq'     ,   \n",
    "'agecu'    ,      \n",
    "'agequ'   ,       \n",
    "'married'   ,     \n",
    "'white'      ,    \n",
    "'afram'       ,   \n",
    "'asian'        ,  \n",
    "'hisp'          , \n",
    "'othernonw'      ,\n",
    "'nonUSborn'      ,\n",
    "'havechild'      ,\n",
    "'educ'           ,\n",
    "'educsq'         ,\n",
    "'educcu'        ,\n",
    "'educqu'    \n",
    "    ]\n",
    "]"
   ]
  },
  {
   "cell_type": "markdown",
   "id": "2780ae12",
   "metadata": {},
   "source": [
    "### Look at the data"
   ]
  },
  {
   "cell_type": "code",
   "execution_count": 99,
   "id": "8da72c2c",
   "metadata": {},
   "outputs": [
    {
     "data": {
      "text/html": [
       "<div>\n",
       "<style scoped>\n",
       "    .dataframe tbody tr th:only-of-type {\n",
       "        vertical-align: middle;\n",
       "    }\n",
       "\n",
       "    .dataframe tbody tr th {\n",
       "        vertical-align: top;\n",
       "    }\n",
       "\n",
       "    .dataframe thead th {\n",
       "        text-align: right;\n",
       "    }\n",
       "</style>\n",
       "<table border=\"1\" class=\"dataframe\">\n",
       "  <thead>\n",
       "    <tr style=\"text-align: right;\">\n",
       "      <th></th>\n",
       "      <th>earnwke</th>\n",
       "      <th>uhours</th>\n",
       "      <th>age</th>\n",
       "      <th>occ2012</th>\n",
       "      <th>female</th>\n",
       "      <th>w</th>\n",
       "      <th>lnw</th>\n",
       "      <th>agesq</th>\n",
       "      <th>agecu</th>\n",
       "      <th>agequ</th>\n",
       "      <th>...</th>\n",
       "      <th>afram</th>\n",
       "      <th>asian</th>\n",
       "      <th>hisp</th>\n",
       "      <th>othernonw</th>\n",
       "      <th>nonUSborn</th>\n",
       "      <th>havechild</th>\n",
       "      <th>educ</th>\n",
       "      <th>educsq</th>\n",
       "      <th>educcu</th>\n",
       "      <th>educqu</th>\n",
       "    </tr>\n",
       "  </thead>\n",
       "  <tbody>\n",
       "    <tr>\n",
       "      <th>count</th>\n",
       "      <td>3404.000000</td>\n",
       "      <td>3404.000000</td>\n",
       "      <td>3404.000000</td>\n",
       "      <td>3404.000000</td>\n",
       "      <td>3404.000000</td>\n",
       "      <td>3404.000000</td>\n",
       "      <td>3404.000000</td>\n",
       "      <td>3404.000000</td>\n",
       "      <td>3404.000000</td>\n",
       "      <td>3.404000e+03</td>\n",
       "      <td>...</td>\n",
       "      <td>3404.000000</td>\n",
       "      <td>3404.000000</td>\n",
       "      <td>3404.000000</td>\n",
       "      <td>3404.000000</td>\n",
       "      <td>3404.000000</td>\n",
       "      <td>3404.000000</td>\n",
       "      <td>3404.000000</td>\n",
       "      <td>3404.000000</td>\n",
       "      <td>3404.000000</td>\n",
       "      <td>3404.000000</td>\n",
       "    </tr>\n",
       "    <tr>\n",
       "      <th>mean</th>\n",
       "      <td>1252.053637</td>\n",
       "      <td>41.211222</td>\n",
       "      <td>42.066392</td>\n",
       "      <td>834.030552</td>\n",
       "      <td>0.603702</td>\n",
       "      <td>30.335379</td>\n",
       "      <td>3.267568</td>\n",
       "      <td>1902.685076</td>\n",
       "      <td>91328.103995</td>\n",
       "      <td>4.593613e+06</td>\n",
       "      <td>...</td>\n",
       "      <td>0.074912</td>\n",
       "      <td>0.080787</td>\n",
       "      <td>0.065805</td>\n",
       "      <td>0.014982</td>\n",
       "      <td>0.123090</td>\n",
       "      <td>0.395417</td>\n",
       "      <td>15.814630</td>\n",
       "      <td>252.328731</td>\n",
       "      <td>4058.219448</td>\n",
       "      <td>65764.118390</td>\n",
       "    </tr>\n",
       "    <tr>\n",
       "      <th>std</th>\n",
       "      <td>685.573216</td>\n",
       "      <td>7.328230</td>\n",
       "      <td>11.538753</td>\n",
       "      <td>45.983876</td>\n",
       "      <td>0.489200</td>\n",
       "      <td>18.167321</td>\n",
       "      <td>0.626535</td>\n",
       "      <td>986.756564</td>\n",
       "      <td>67148.231997</td>\n",
       "      <td>4.266060e+06</td>\n",
       "      <td>...</td>\n",
       "      <td>0.263288</td>\n",
       "      <td>0.272548</td>\n",
       "      <td>0.247977</td>\n",
       "      <td>0.121500</td>\n",
       "      <td>0.328589</td>\n",
       "      <td>0.489012</td>\n",
       "      <td>1.492269</td>\n",
       "      <td>45.770573</td>\n",
       "      <td>1085.429463</td>\n",
       "      <td>23280.293888</td>\n",
       "    </tr>\n",
       "    <tr>\n",
       "      <th>min</th>\n",
       "      <td>0.400000</td>\n",
       "      <td>1.000000</td>\n",
       "      <td>17.000000</td>\n",
       "      <td>800.000000</td>\n",
       "      <td>0.000000</td>\n",
       "      <td>0.010000</td>\n",
       "      <td>-4.605170</td>\n",
       "      <td>289.000000</td>\n",
       "      <td>4913.000000</td>\n",
       "      <td>8.352100e+04</td>\n",
       "      <td>...</td>\n",
       "      <td>0.000000</td>\n",
       "      <td>0.000000</td>\n",
       "      <td>0.000000</td>\n",
       "      <td>0.000000</td>\n",
       "      <td>0.000000</td>\n",
       "      <td>0.000000</td>\n",
       "      <td>1.000000</td>\n",
       "      <td>1.000000</td>\n",
       "      <td>1.000000</td>\n",
       "      <td>1.000000</td>\n",
       "    </tr>\n",
       "    <tr>\n",
       "      <th>25%</th>\n",
       "      <td>758.307500</td>\n",
       "      <td>40.000000</td>\n",
       "      <td>32.000000</td>\n",
       "      <td>800.000000</td>\n",
       "      <td>0.000000</td>\n",
       "      <td>19.000000</td>\n",
       "      <td>2.944439</td>\n",
       "      <td>1024.000000</td>\n",
       "      <td>32768.000000</td>\n",
       "      <td>1.048576e+06</td>\n",
       "      <td>...</td>\n",
       "      <td>0.000000</td>\n",
       "      <td>0.000000</td>\n",
       "      <td>0.000000</td>\n",
       "      <td>0.000000</td>\n",
       "      <td>0.000000</td>\n",
       "      <td>0.000000</td>\n",
       "      <td>15.000000</td>\n",
       "      <td>225.000000</td>\n",
       "      <td>3375.000000</td>\n",
       "      <td>50625.000000</td>\n",
       "    </tr>\n",
       "    <tr>\n",
       "      <th>50%</th>\n",
       "      <td>1057.690000</td>\n",
       "      <td>40.000000</td>\n",
       "      <td>42.000000</td>\n",
       "      <td>800.000000</td>\n",
       "      <td>1.000000</td>\n",
       "      <td>26.000000</td>\n",
       "      <td>3.258097</td>\n",
       "      <td>1764.000000</td>\n",
       "      <td>74088.000000</td>\n",
       "      <td>3.111696e+06</td>\n",
       "      <td>...</td>\n",
       "      <td>0.000000</td>\n",
       "      <td>0.000000</td>\n",
       "      <td>0.000000</td>\n",
       "      <td>0.000000</td>\n",
       "      <td>0.000000</td>\n",
       "      <td>0.000000</td>\n",
       "      <td>16.000000</td>\n",
       "      <td>256.000000</td>\n",
       "      <td>4096.000000</td>\n",
       "      <td>65536.000000</td>\n",
       "    </tr>\n",
       "    <tr>\n",
       "      <th>75%</th>\n",
       "      <td>1581.190000</td>\n",
       "      <td>40.000000</td>\n",
       "      <td>52.000000</td>\n",
       "      <td>850.000000</td>\n",
       "      <td>1.000000</td>\n",
       "      <td>38.451875</td>\n",
       "      <td>3.649407</td>\n",
       "      <td>2704.000000</td>\n",
       "      <td>140608.000000</td>\n",
       "      <td>7.311616e+06</td>\n",
       "      <td>...</td>\n",
       "      <td>0.000000</td>\n",
       "      <td>0.000000</td>\n",
       "      <td>0.000000</td>\n",
       "      <td>0.000000</td>\n",
       "      <td>0.000000</td>\n",
       "      <td>1.000000</td>\n",
       "      <td>16.000000</td>\n",
       "      <td>256.000000</td>\n",
       "      <td>4096.000000</td>\n",
       "      <td>65536.000000</td>\n",
       "    </tr>\n",
       "    <tr>\n",
       "      <th>max</th>\n",
       "      <td>2884.610000</td>\n",
       "      <td>92.000000</td>\n",
       "      <td>64.000000</td>\n",
       "      <td>950.000000</td>\n",
       "      <td>1.000000</td>\n",
       "      <td>500.000000</td>\n",
       "      <td>6.214608</td>\n",
       "      <td>4096.000000</td>\n",
       "      <td>262144.000000</td>\n",
       "      <td>1.677722e+07</td>\n",
       "      <td>...</td>\n",
       "      <td>1.000000</td>\n",
       "      <td>1.000000</td>\n",
       "      <td>1.000000</td>\n",
       "      <td>1.000000</td>\n",
       "      <td>1.000000</td>\n",
       "      <td>1.000000</td>\n",
       "      <td>20.000000</td>\n",
       "      <td>400.000000</td>\n",
       "      <td>8000.000000</td>\n",
       "      <td>160000.000000</td>\n",
       "    </tr>\n",
       "  </tbody>\n",
       "</table>\n",
       "<p>8 rows × 22 columns</p>\n",
       "</div>"
      ],
      "text/plain": [
       "           earnwke       uhours          age      occ2012       female  \\\n",
       "count  3404.000000  3404.000000  3404.000000  3404.000000  3404.000000   \n",
       "mean   1252.053637    41.211222    42.066392   834.030552     0.603702   \n",
       "std     685.573216     7.328230    11.538753    45.983876     0.489200   \n",
       "min       0.400000     1.000000    17.000000   800.000000     0.000000   \n",
       "25%     758.307500    40.000000    32.000000   800.000000     0.000000   \n",
       "50%    1057.690000    40.000000    42.000000   800.000000     1.000000   \n",
       "75%    1581.190000    40.000000    52.000000   850.000000     1.000000   \n",
       "max    2884.610000    92.000000    64.000000   950.000000     1.000000   \n",
       "\n",
       "                 w          lnw        agesq          agecu         agequ  \\\n",
       "count  3404.000000  3404.000000  3404.000000    3404.000000  3.404000e+03   \n",
       "mean     30.335379     3.267568  1902.685076   91328.103995  4.593613e+06   \n",
       "std      18.167321     0.626535   986.756564   67148.231997  4.266060e+06   \n",
       "min       0.010000    -4.605170   289.000000    4913.000000  8.352100e+04   \n",
       "25%      19.000000     2.944439  1024.000000   32768.000000  1.048576e+06   \n",
       "50%      26.000000     3.258097  1764.000000   74088.000000  3.111696e+06   \n",
       "75%      38.451875     3.649407  2704.000000  140608.000000  7.311616e+06   \n",
       "max     500.000000     6.214608  4096.000000  262144.000000  1.677722e+07   \n",
       "\n",
       "       ...        afram        asian         hisp    othernonw    nonUSborn  \\\n",
       "count  ...  3404.000000  3404.000000  3404.000000  3404.000000  3404.000000   \n",
       "mean   ...     0.074912     0.080787     0.065805     0.014982     0.123090   \n",
       "std    ...     0.263288     0.272548     0.247977     0.121500     0.328589   \n",
       "min    ...     0.000000     0.000000     0.000000     0.000000     0.000000   \n",
       "25%    ...     0.000000     0.000000     0.000000     0.000000     0.000000   \n",
       "50%    ...     0.000000     0.000000     0.000000     0.000000     0.000000   \n",
       "75%    ...     0.000000     0.000000     0.000000     0.000000     0.000000   \n",
       "max    ...     1.000000     1.000000     1.000000     1.000000     1.000000   \n",
       "\n",
       "         havechild         educ       educsq       educcu         educqu  \n",
       "count  3404.000000  3404.000000  3404.000000  3404.000000    3404.000000  \n",
       "mean      0.395417    15.814630   252.328731  4058.219448   65764.118390  \n",
       "std       0.489012     1.492269    45.770573  1085.429463   23280.293888  \n",
       "min       0.000000     1.000000     1.000000     1.000000       1.000000  \n",
       "25%       0.000000    15.000000   225.000000  3375.000000   50625.000000  \n",
       "50%       0.000000    16.000000   256.000000  4096.000000   65536.000000  \n",
       "75%       1.000000    16.000000   256.000000  4096.000000   65536.000000  \n",
       "max       1.000000    20.000000   400.000000  8000.000000  160000.000000  \n",
       "\n",
       "[8 rows x 22 columns]"
      ]
     },
     "execution_count": 99,
     "metadata": {},
     "output_type": "execute_result"
    }
   ],
   "source": [
    "#quick look\n",
    "df.describe()"
   ]
  },
  {
   "cell_type": "code",
   "execution_count": 72,
   "id": "2e19bc37",
   "metadata": {},
   "outputs": [
    {
     "data": {
      "text/plain": [
       "Index([], dtype='object')"
      ]
     },
     "execution_count": 72,
     "metadata": {},
     "output_type": "execute_result"
    }
   ],
   "source": [
    "# check we don't have missing variables\n",
    "to_filter=df.isna().sum()\n",
    "to_filter[to_filter>0].index"
   ]
  },
  {
   "cell_type": "code",
   "execution_count": 77,
   "id": "32c93f8b",
   "metadata": {},
   "outputs": [
    {
     "data": {
      "text/plain": [
       "<AxesSubplot:xlabel='w', ylabel='Density'>"
      ]
     },
     "execution_count": 77,
     "metadata": {},
     "output_type": "execute_result"
    },
    {
     "data": {
      "image/png": "[encoded data removed]",
      "text/plain": [
       "<Figure size 432x288 with 1 Axes>"
      ]
     },
     "metadata": {
      "needs_background": "light"
     },
     "output_type": "display_data"
    }
   ],
   "source": [
    "#check the distribution of wages\n",
    "sns.distplot(df.w)"
   ]
  },
  {
   "cell_type": "code",
   "execution_count": 76,
   "id": "5b3088d0",
   "metadata": {},
   "outputs": [
    {
     "data": {
      "text/plain": [
       "<AxesSubplot:xlabel='lnw', ylabel='Density'>"
      ]
     },
     "execution_count": 76,
     "metadata": {},
     "output_type": "execute_result"
    },
    {
     "data": {
      "image/png": "[encoded data removed]",
      "text/plain": [
       "<Figure size 432x288 with 1 Axes>"
      ]
     },
     "metadata": {
      "needs_background": "light"
     },
     "output_type": "display_data"
    }
   ],
   "source": [
    "sns.distplot(df.lnw)"
   ]
  },
  {
   "cell_type": "markdown",
   "id": "9b3327a8",
   "metadata": {},
   "source": [
    "As distribution of wage is skewed, I would use ln(wage) as a dependent variable"
   ]
  },
  {
   "cell_type": "code",
   "execution_count": 104,
   "id": "78b4f1b6",
   "metadata": {},
   "outputs": [],
   "source": [
    "def lnw_diff_by_variables2(df, factor_var, dummy_var, factor_lab, dummy_lab):\n",
    "    stats = df.groupby([factor_var, dummy_var]).agg(\n",
    "        Mean=(\"lnw\", np.mean), sd=(\"lnw\", np.std), size=(\"lnw\", \"size\")\n",
    "    )\n",
    "    stats[\"se\"] = stats[\"sd\"] / stats[\"size\"] ** (1 / 2)\n",
    "    stats[\"Mean_l\"] = stats[\"Mean\"] - (1.96 * stats[\"se\"])\n",
    "    stats[\"Mean_u\"] = stats[\"Mean\"] + (1.96 * stats[\"se\"])\n",
    "    stats = stats.drop([\"sd\", \"size\"], axis=1).reset_index()\n",
    "    plot = (\n",
    "        ggplot(\n",
    "            stats,\n",
    "            aes(\n",
    "                stats.columns[0],\n",
    "                stats.columns[2],\n",
    "                fill=\"factor(\" + stats.columns[1] + \")\",\n",
    "            ),\n",
    "        )\n",
    "        + geom_bar(stat=\"identity\", position=position_dodge(width=0.9))\n",
    "        + geom_errorbar(\n",
    "            aes(ymin=\"Mean_l\", ymax=\"Mean_u\"),\n",
    "            position=position_dodge(width=0.9),\n",
    "            width=0.25,\n",
    "        )\n",
    "      #  + scale_color_manual(name=dummy_lab, values=(\"#3a5e8cFF\", \"#10a53dFF\"))\n",
    "      #  + scale_fill_manual(name=dummy_lab, values=(\"#3a5e8cFF\", \"#10a53dFF\"))\n",
    "        + ylab(\"Mean lnw\")\n",
    "        + xlab(factor_lab)\n",
    "        + theme_bw()\n",
    "        + theme(\n",
    "            panel_grid_major=element_blank(),\n",
    "            panel_grid_minor=element_blank(),\n",
    "            panel_border=element_blank(),\n",
    "            axis_line=element_line(),\n",
    "            legend_position=\"top\",\n",
    "            legend_box=\"vertical\",\n",
    "            legend_text=element_text(size=5),\n",
    "            legend_title=element_text(size=5, face=\"bold\"),\n",
    "        )\n",
    "    )\n",
    "\n",
    "    return plot"
   ]
  },
  {
   "cell_type": "code",
   "execution_count": 105,
   "id": "4c4785d0",
   "metadata": {},
   "outputs": [
    {
     "data": {
      "image/png": "[encoded data removed]",
      "text/plain": [
       "<Figure size 640x480 with 1 Axes>"
      ]
     },
     "metadata": {},
     "output_type": "display_data"
    },
    {
     "data": {
      "text/plain": [
       "<ggplot: (176910916642)>"
      ]
     },
     "execution_count": 105,
     "metadata": {},
     "output_type": "execute_result"
    }
   ],
   "source": [
    "lnw_diff_by_variables2(df,\"female\",\"married\",\"Female\", \"Married\")"
   ]
  },
  {
   "cell_type": "code",
   "execution_count": 106,
   "id": "3472ae0f",
   "metadata": {},
   "outputs": [
    {
     "data": {
      "image/png": "[encoded data removed]",
      "text/plain": [
       "<Figure size 640x480 with 1 Axes>"
      ]
     },
     "metadata": {},
     "output_type": "display_data"
    },
    {
     "data": {
      "text/plain": [
       "<ggplot: (176912641268)>"
      ]
     },
     "execution_count": 106,
     "metadata": {},
     "output_type": "execute_result"
    }
   ],
   "source": [
    "lnw_diff_by_variables2(df,\"female\",\"havechild\",\"Female\", \"Have at least 1 child\")"
   ]
  },
  {
   "cell_type": "code",
   "execution_count": 107,
   "id": "908595cd",
   "metadata": {},
   "outputs": [
    {
     "data": {
      "image/png": "[encoded data removed]",
      "text/plain": [
       "<Figure size 640x480 with 1 Axes>"
      ]
     },
     "metadata": {},
     "output_type": "display_data"
    },
    {
     "data": {
      "text/plain": [
       "<ggplot: (176907609995)>"
      ]
     },
     "execution_count": 107,
     "metadata": {},
     "output_type": "execute_result"
    }
   ],
   "source": [
    "lnw_diff_by_variables2(df,\"female\",\"white\",\"Female\", \"White\")"
   ]
  },
  {
   "cell_type": "code",
   "execution_count": 108,
   "id": "08c9532b",
   "metadata": {},
   "outputs": [
    {
     "data": {
      "image/png": "[encoded data removed]",
      "text/plain": [
       "<Figure size 640x480 with 1 Axes>"
      ]
     },
     "metadata": {},
     "output_type": "display_data"
    },
    {
     "data": {
      "text/plain": [
       "<ggplot: (176912925965)>"
      ]
     },
     "execution_count": 108,
     "metadata": {},
     "output_type": "execute_result"
    }
   ],
   "source": [
    "lnw_diff_by_variables2(df,\"female\",\"nonUSborn\",\"Female\", \"Not born in the US\")"
   ]
  },
  {
   "cell_type": "code",
   "execution_count": 109,
   "id": "c33de4aa",
   "metadata": {},
   "outputs": [
    {
     "data": {
      "image/png": "[encoded data removed]",
      "text/plain": [
       "<Figure size 640x480 with 1 Axes>"
      ]
     },
     "metadata": {},
     "output_type": "display_data"
    },
    {
     "data": {
      "text/plain": [
       "<ggplot: (176912911906)>"
      ]
     },
     "execution_count": 109,
     "metadata": {},
     "output_type": "execute_result"
    }
   ],
   "source": [
    "lnw_diff_by_variables2(df,\"married\",\"havechild\",\"Married\", \"Have at least 1 child\")"
   ]
  },
  {
   "cell_type": "markdown",
   "id": "9a9db25b",
   "metadata": {},
   "source": [
    "### Setting up models"
   ]
  },
  {
   "cell_type": "code",
   "execution_count": 110,
   "id": "9d40cec0",
   "metadata": {},
   "outputs": [
    {
     "data": {
      "image/png": "[encoded data removed]",
      "text/plain": [
       "<Figure size 640x480 with 1 Axes>"
      ]
     },
     "metadata": {},
     "output_type": "display_data"
    },
    {
     "data": {
      "text/plain": [
       "<ggplot: (176913249955)>"
      ]
     },
     "execution_count": 110,
     "metadata": {},
     "output_type": "execute_result"
    }
   ],
   "source": [
    "lnw_diff_by_variables2(df,\"married\",\"white\",\"Married\", \"White\")"
   ]
  },
  {
   "cell_type": "code",
   "execution_count": 111,
   "id": "ac3718ba",
   "metadata": {},
   "outputs": [
    {
     "data": {
      "image/png": "[encoded data removed]",
      "text/plain": [
       "<Figure size 640x480 with 1 Axes>"
      ]
     },
     "metadata": {},
     "output_type": "display_data"
    },
    {
     "data": {
      "text/plain": [
       "<ggplot: (176912958961)>"
      ]
     },
     "execution_count": 111,
     "metadata": {},
     "output_type": "execute_result"
    }
   ],
   "source": [
    "lnw_diff_by_variables2(df,\"married\",\"nonUSborn\",\"Married\", \"Not born in the US\")"
   ]
  },
  {
   "cell_type": "code",
   "execution_count": 112,
   "id": "db78a759",
   "metadata": {},
   "outputs": [
    {
     "data": {
      "image/png": "[encoded data removed]",
      "text/plain": [
       "<Figure size 640x480 with 1 Axes>"
      ]
     },
     "metadata": {},
     "output_type": "display_data"
    },
    {
     "data": {
      "text/plain": [
       "<ggplot: (176913548165)>"
      ]
     },
     "execution_count": 112,
     "metadata": {},
     "output_type": "execute_result"
    }
   ],
   "source": [
    "lnw_diff_by_variables2(df,\"havechild\",\"nonUSborn\",\"Have at least 1 child\", \"Not born in the US\")"
   ]
  },
  {
   "cell_type": "code",
   "execution_count": 113,
   "id": "3876ffc3",
   "metadata": {},
   "outputs": [
    {
     "data": {
      "image/png": "[encoded data removed]",
      "text/plain": [
       "<Figure size 640x480 with 1 Axes>"
      ]
     },
     "metadata": {},
     "output_type": "display_data"
    },
    {
     "data": {
      "text/plain": [
       "<ggplot: (176913541069)>"
      ]
     },
     "execution_count": 113,
     "metadata": {},
     "output_type": "execute_result"
    }
   ],
   "source": [
    "lnw_diff_by_variables2(df,\"havechild\",\"white\",\"Have at least 1 child\", \"White\")"
   ]
  },
  {
   "cell_type": "code",
   "execution_count": 114,
   "id": "c24b5dca",
   "metadata": {},
   "outputs": [
    {
     "data": {
      "image/png": "[encoded data removed]",
      "text/plain": [
       "<Figure size 640x480 with 1 Axes>"
      ]
     },
     "metadata": {},
     "output_type": "display_data"
    },
    {
     "data": {
      "text/plain": [
       "<ggplot: (176913510319)>"
      ]
     },
     "execution_count": 114,
     "metadata": {},
     "output_type": "execute_result"
    }
   ],
   "source": [
    "lnw_diff_by_variables2(df,\"nonUSborn\",\"white\",\"Not born in the US\", \"White\")"
   ]
  },
  {
   "cell_type": "code",
   "execution_count": 116,
   "id": "96a40bb0",
   "metadata": {},
   "outputs": [],
   "source": [
    "basic_lev = (\n",
    "    \"female\",\n",
    "    \"age\",\n",
    "    \"educ\"\n",
    ")\n",
    "race_dummies = (\"white\", \"afram\", \"asian\", \"hisp\", \"othernonw\")\n",
    "age_poly = (\"agesq\", \"agecu\", \"agequ\")\n",
    "educ_poly = (\"educsq\", \"educcu\", \"educqu\")\n",
    "other_variables = (\"havechild\", \"nonUSborn\")\n",
    "\n",
    "# interactions suggested by graphs\n",
    "X1=(\"female*married\", \"female*havechild\", \"female*nonUSborn\",\n",
    "    \"married*havechild\", \"married*nonUSborn\",\n",
    "    \"havechild*nonUSborn\")\n",
    "\n",
    "# race interactions\n",
    "X2=(\"white*female\",\"white*married\",\"white*havechild\",\"white*nonUSborn\",\n",
    "    \"afram*female\",\"afram*married\",\"afram*havechild\",\"afram*nonUSborn\",\n",
    "    \"asian*female\",\"asian*married\",\"asian*havechild\",\"asian*nonUSborn\",\n",
    "    \"hisp*female\",\"hisp*married\",\"hisp*havechild\",\"hisp*nonUSborn\",\n",
    "    \"othernonw*female\",\"othernonw*married\",\"othernonw*havechild\",\"othernonw*nonUSborn\",)"
   ]
  },
  {
   "cell_type": "code",
   "execution_count": 135,
   "id": "db8aa0ef",
   "metadata": {},
   "outputs": [
    {
     "data": {
      "text/plain": [
       "'~female+age+educ+agesq+agecu+agequ+educsq+educcu+educqu'"
      ]
     },
     "execution_count": 135,
     "metadata": {},
     "output_type": "execute_result"
    }
   ],
   "source": [
    "modellev2"
   ]
  },
  {
   "cell_type": "code",
   "execution_count": 117,
   "id": "0c3af228",
   "metadata": {},
   "outputs": [],
   "source": [
    "modellev1=\"~\"+\"+\".join(basic_lev)\n",
    "modellev2=\"~\"+\"+\".join(basic_lev)+\"+\"+\"+\".join(age_poly)+\"+\"+\"+\".join(educ_poly)\n",
    "modellev3=\"~\"+\"+\".join(basic_lev)+\"+\"+\"+\".join(age_poly)+\"+\"+\"+\".join(educ_poly)+\"+\"+\"+\".join(other_variables)+\"+\"+\"+\".join(X1)\n",
    "modellev4=\"~\"+\"+\".join(basic_lev)+\"+\"+\"+\".join(age_poly)+\"+\"+\"+\".join(educ_poly)+\"+\"+\"+\".join(other_variables)+\"+\"+\"+\".join(X1)+\"+\"+\"+\".join(X2)"
   ]
  },
  {
   "cell_type": "markdown",
   "id": "0e003084",
   "metadata": {},
   "source": [
    "### Separate hold-out set"
   ]
  },
  {
   "cell_type": "code",
   "execution_count": 115,
   "id": "67c8e49a",
   "metadata": {},
   "outputs": [],
   "source": [
    "#################################\n",
    "# Separate hold-out set #\n",
    "#################################\n",
    "smp_size = round(0.2 * df.shape[0])-1"
   ]
  },
  {
   "cell_type": "code",
   "execution_count": 120,
   "id": "a1b26154",
   "metadata": {},
   "outputs": [],
   "source": [
    "# Set the random number generator: It will make results reproducable\n",
    "np.random.seed(20180123)"
   ]
  },
  {
   "cell_type": "code",
   "execution_count": 121,
   "id": "f60ff36e",
   "metadata": {},
   "outputs": [],
   "source": [
    "from sklearn.model_selection import train_test_split"
   ]
  },
  {
   "cell_type": "code",
   "execution_count": 122,
   "id": "0a83ff8f",
   "metadata": {},
   "outputs": [],
   "source": [
    "data_work,data_holdout=train_test_split(df, test_size=smp_size)"
   ]
  },
  {
   "cell_type": "markdown",
   "id": "ba1a4f70",
   "metadata": {},
   "source": [
    "### Cross validated RMSE"
   ]
  },
  {
   "cell_type": "code",
   "execution_count": 136,
   "id": "4f9e1933",
   "metadata": {},
   "outputs": [],
   "source": [
    "n_folds=5"
   ]
  },
  {
   "cell_type": "code",
   "execution_count": 137,
   "id": "49bf0af1",
   "metadata": {},
   "outputs": [],
   "source": [
    "from sklearn.model_selection import KFold\n",
    "from statsmodels.tools.eval_measures import mse,rmse\n",
    "k = KFold(n_splits=n_folds, shuffle=False, random_state=None)"
   ]
  },
  {
   "cell_type": "code",
   "execution_count": 141,
   "id": "061a650d",
   "metadata": {},
   "outputs": [],
   "source": [
    "def cv_reg(formula, data, kfold, testdata, robustse=None):\n",
    "    regression_list = []\n",
    "    predicts_on_test = []\n",
    "    rsquared = []\n",
    "    rmse_list = []\n",
    "    rmse_list_test = []\n",
    "\n",
    "    # Calculating OLS for each fold\n",
    "\n",
    "    for train_index, test_index in k.split(data):\n",
    "        # print(\"TRAIN:\", train_index, \"TEST:\", test_index)\n",
    "        data_train, data_test = data.iloc[train_index, :], data.iloc[test_index, :]\n",
    "        if robustse is None:\n",
    "            model = smf.ols(formula, data=data_train).fit()\n",
    "        else:\n",
    "            model = smf.ols(formula, data=data_train).fit(cov_type=robustse)\n",
    "        regression_list += [model]\n",
    "        predicts_on_test += [model.predict(data_test)]\n",
    "        rsquared += [model.rsquared]\n",
    "\n",
    "        rmse_tr = pd.concat(\n",
    "            [data_train[\"lnw\"], model.predict(data_train)],\n",
    "            axis=1,\n",
    "            keys=[\"lnw\", \"predicted\"],\n",
    "        )\n",
    "        rmse_tr = rmse_tr[~rmse_tr.isna().any(axis=1)]\n",
    "\n",
    "        rmse_te = pd.concat(\n",
    "            [data_test[\"lnw\"], model.predict(data_test)],\n",
    "            axis=1,\n",
    "            keys=[\"lnw\", \"predicted\"],\n",
    "        )\n",
    "        rmse_te = rmse_te[~rmse_te.isna().any(axis=1)]\n",
    "\n",
    "        rmse_list += [rmse(rmse_tr[\"lnw\"], rmse_tr[\"predicted\"], axis=0)]\n",
    "        rmse_list_test += [rmse(rmse_te[\"lnw\"], rmse_te[\"predicted\"], axis=0)]\n",
    "    nvars = model.df_model\n",
    "\n",
    "    return {\n",
    "        \"regressions\": regression_list,\n",
    "        \"test_predict\": predicts_on_test,\n",
    "        \"r2\": rsquared,\n",
    "        \"rmse\": rmse_list,\n",
    "        \"rmse_test\": rmse_list_test,\n",
    "        \"nvars\": nvars,\n",
    "    }\n",
    "\n",
    "\n",
    "def summarize_cv(cvlist, stat=\"rmse\"):\n",
    "    result = pd.DataFrame(\n",
    "        {\"Model\" + str(x + 1): cvlist[x][stat] for x in range(len(cvlist))}\n",
    "    )\n",
    "    result[\"Resample\"] = [\"Fold\" + str(x + 1) for x in range(len(cvlist[0][\"rmse\"]))]\n",
    "    result = result.set_index(\"Resample\")\n",
    "    result = pd.concat([result, pd.DataFrame(result.mean(), columns=[\"Average\"]).T])\n",
    "    return result"
   ]
  },
  {
   "cell_type": "code",
   "execution_count": 142,
   "id": "68fc40db",
   "metadata": {},
   "outputs": [],
   "source": [
    "cv_list = []\n",
    "for i in [\n",
    "    modellev1,\n",
    "    modellev2,\n",
    "    modellev3,\n",
    "    modellev4,\n",
    "]:\n",
    "    cv_list += [cv_reg(\"lnw\" + i, data_work, k, \"HC0\")]"
   ]
  },
  {
   "cell_type": "code",
   "execution_count": 143,
   "id": "f43de136",
   "metadata": {},
   "outputs": [
    {
     "data": {
      "text/html": [
       "<div>\n",
       "<style scoped>\n",
       "    .dataframe tbody tr th:only-of-type {\n",
       "        vertical-align: middle;\n",
       "    }\n",
       "\n",
       "    .dataframe tbody tr th {\n",
       "        vertical-align: top;\n",
       "    }\n",
       "\n",
       "    .dataframe thead th {\n",
       "        text-align: right;\n",
       "    }\n",
       "</style>\n",
       "<table border=\"1\" class=\"dataframe\">\n",
       "  <thead>\n",
       "    <tr style=\"text-align: right;\">\n",
       "      <th></th>\n",
       "      <th>Model1</th>\n",
       "      <th>Model2</th>\n",
       "      <th>Model3</th>\n",
       "      <th>Model4</th>\n",
       "    </tr>\n",
       "  </thead>\n",
       "  <tbody>\n",
       "    <tr>\n",
       "      <th>Fold1</th>\n",
       "      <td>0.550254</td>\n",
       "      <td>0.544077</td>\n",
       "      <td>0.541815</td>\n",
       "      <td>0.538130</td>\n",
       "    </tr>\n",
       "    <tr>\n",
       "      <th>Fold2</th>\n",
       "      <td>0.564869</td>\n",
       "      <td>0.561868</td>\n",
       "      <td>0.558212</td>\n",
       "      <td>0.552260</td>\n",
       "    </tr>\n",
       "    <tr>\n",
       "      <th>Fold3</th>\n",
       "      <td>0.579014</td>\n",
       "      <td>0.574471</td>\n",
       "      <td>0.569672</td>\n",
       "      <td>0.565476</td>\n",
       "    </tr>\n",
       "    <tr>\n",
       "      <th>Fold4</th>\n",
       "      <td>0.607446</td>\n",
       "      <td>0.601766</td>\n",
       "      <td>0.598712</td>\n",
       "      <td>0.593618</td>\n",
       "    </tr>\n",
       "    <tr>\n",
       "      <th>Fold5</th>\n",
       "      <td>0.570803</td>\n",
       "      <td>0.566816</td>\n",
       "      <td>0.563342</td>\n",
       "      <td>0.558021</td>\n",
       "    </tr>\n",
       "    <tr>\n",
       "      <th>Average</th>\n",
       "      <td>0.574477</td>\n",
       "      <td>0.569799</td>\n",
       "      <td>0.566350</td>\n",
       "      <td>0.561501</td>\n",
       "    </tr>\n",
       "  </tbody>\n",
       "</table>\n",
       "</div>"
      ],
      "text/plain": [
       "           Model1    Model2    Model3    Model4\n",
       "Fold1    0.550254  0.544077  0.541815  0.538130\n",
       "Fold2    0.564869  0.561868  0.558212  0.552260\n",
       "Fold3    0.579014  0.574471  0.569672  0.565476\n",
       "Fold4    0.607446  0.601766  0.598712  0.593618\n",
       "Fold5    0.570803  0.566816  0.563342  0.558021\n",
       "Average  0.574477  0.569799  0.566350  0.561501"
      ]
     },
     "execution_count": 143,
     "metadata": {},
     "output_type": "execute_result"
    }
   ],
   "source": [
    "summarize_cv(cv_list)"
   ]
  },
  {
   "cell_type": "code",
   "execution_count": 144,
   "id": "bd2e5bfa",
   "metadata": {},
   "outputs": [
    {
     "ename": "IndexError",
     "evalue": "list index out of range",
     "output_type": "error",
     "traceback": [
      "\u001b[1;31m---------------------------------------------------------------------------\u001b[0m",
      "\u001b[1;31mIndexError\u001b[0m                                Traceback (most recent call last)",
      "\u001b[1;32m~\\AppData\\Local\\Temp/ipykernel_25292/1113834942.py\u001b[0m in \u001b[0;36m<module>\u001b[1;34m\u001b[0m\n\u001b[0;32m      3\u001b[0m \u001b[0mrmse_levels\u001b[0m \u001b[1;33m=\u001b[0m \u001b[1;33m{\u001b[0m\u001b[1;34m\"nvars\"\u001b[0m\u001b[1;33m:\u001b[0m \u001b[1;33m[\u001b[0m\u001b[1;33m]\u001b[0m\u001b[1;33m,\u001b[0m \u001b[1;34m\"var\"\u001b[0m\u001b[1;33m:\u001b[0m \u001b[1;33m[\u001b[0m\u001b[1;33m]\u001b[0m\u001b[1;33m,\u001b[0m \u001b[1;34m\"value\"\u001b[0m\u001b[1;33m:\u001b[0m \u001b[1;33m[\u001b[0m\u001b[1;33m]\u001b[0m\u001b[1;33m}\u001b[0m\u001b[1;33m\u001b[0m\u001b[1;33m\u001b[0m\u001b[0m\n\u001b[0;32m      4\u001b[0m \u001b[1;32mfor\u001b[0m \u001b[0mi\u001b[0m \u001b[1;32min\u001b[0m \u001b[0mrange\u001b[0m\u001b[1;33m(\u001b[0m\u001b[1;36m0\u001b[0m\u001b[1;33m,\u001b[0m \u001b[1;36m8\u001b[0m\u001b[1;33m)\u001b[0m\u001b[1;33m:\u001b[0m\u001b[1;33m\u001b[0m\u001b[1;33m\u001b[0m\u001b[0m\n\u001b[1;32m----> 5\u001b[1;33m     \u001b[0mrmse_levels\u001b[0m\u001b[1;33m[\u001b[0m\u001b[1;34m\"nvars\"\u001b[0m\u001b[1;33m]\u001b[0m\u001b[1;33m.\u001b[0m\u001b[0mappend\u001b[0m\u001b[1;33m(\u001b[0m\u001b[0mint\u001b[0m\u001b[1;33m(\u001b[0m\u001b[0mcv_list\u001b[0m\u001b[1;33m[\u001b[0m\u001b[0mi\u001b[0m\u001b[1;33m]\u001b[0m\u001b[1;33m[\u001b[0m\u001b[1;34m\"nvars\"\u001b[0m\u001b[1;33m]\u001b[0m\u001b[1;33m)\u001b[0m\u001b[1;33m)\u001b[0m\u001b[1;33m\u001b[0m\u001b[1;33m\u001b[0m\u001b[0m\n\u001b[0m\u001b[0;32m      6\u001b[0m     \u001b[0mrmse_levels\u001b[0m\u001b[1;33m[\u001b[0m\u001b[1;34m\"var\"\u001b[0m\u001b[1;33m]\u001b[0m\u001b[1;33m.\u001b[0m\u001b[0mappend\u001b[0m\u001b[1;33m(\u001b[0m\u001b[1;34m\"RMSE Training\"\u001b[0m\u001b[1;33m)\u001b[0m\u001b[1;33m\u001b[0m\u001b[1;33m\u001b[0m\u001b[0m\n\u001b[0;32m      7\u001b[0m     \u001b[0mrmse_levels\u001b[0m\u001b[1;33m[\u001b[0m\u001b[1;34m\"value\"\u001b[0m\u001b[1;33m]\u001b[0m\u001b[1;33m.\u001b[0m\u001b[0mappend\u001b[0m\u001b[1;33m(\u001b[0m\u001b[0mpd\u001b[0m\u001b[1;33m.\u001b[0m\u001b[0mSeries\u001b[0m\u001b[1;33m(\u001b[0m\u001b[0mcv_list\u001b[0m\u001b[1;33m[\u001b[0m\u001b[0mi\u001b[0m\u001b[1;33m]\u001b[0m\u001b[1;33m[\u001b[0m\u001b[1;34m\"rmse\"\u001b[0m\u001b[1;33m]\u001b[0m\u001b[1;33m)\u001b[0m\u001b[1;33m.\u001b[0m\u001b[0mmean\u001b[0m\u001b[1;33m(\u001b[0m\u001b[1;33m)\u001b[0m\u001b[1;33m)\u001b[0m\u001b[1;33m\u001b[0m\u001b[1;33m\u001b[0m\u001b[0m\n",
      "\u001b[1;31mIndexError\u001b[0m: list index out of range"
     ]
    }
   ],
   "source": [
    "\n",
    "# RMSE training vs test graph\n",
    "\n",
    "rmse_levels = {\"nvars\": [], \"var\": [], \"value\": []}\n",
    "for i in range(0, 8):\n",
    "    rmse_levels[\"nvars\"].append(int(cv_list[i][\"nvars\"]))\n",
    "    rmse_levels[\"var\"].append(\"RMSE Training\")\n",
    "    rmse_levels[\"value\"].append(pd.Series(cv_list[i][\"rmse\"]).mean())\n",
    "for i in range(0, 8):\n",
    "    rmse_levels[\"nvars\"].append(int(cv_list[i][\"nvars\"]))\n",
    "    rmse_levels[\"var\"].append(\"RMSE Test\")\n",
    "    rmse_levels[\"value\"].append(pd.Series(cv_list[i][\"rmse_test\"]).mean())\n",
    "rmse_levels = pd.DataFrame.from_dict(rmse_levels)\n",
    "rmse_levels[\"nvars2\"] = rmse_levels[\"nvars\"] + 1"
   ]
  },
  {
   "cell_type": "markdown",
   "id": "9574305c",
   "metadata": {},
   "source": [
    "### RMSE and BIC in the full sample"
   ]
  },
  {
   "cell_type": "code",
   "execution_count": 127,
   "id": "db8401ce",
   "metadata": {},
   "outputs": [],
   "source": [
    "reg1 = smf.ols(formula=\"lnw\" + modellev1, data=data_work).fit(cov_type=\"HC1\")\n",
    "reg2 = smf.ols(formula=\"lnw\" + modellev2, data=data_work).fit(cov_type=\"HC1\")\n",
    "reg3 = smf.ols(formula=\"lnw\" + modellev3, data=data_work).fit(cov_type=\"HC1\")\n",
    "reg4 = smf.ols(formula=\"lnw\" + modellev4, data=data_work).fit(cov_type=\"HC1\")"
   ]
  },
  {
   "cell_type": "code",
   "execution_count": 126,
   "id": "c19578e0",
   "metadata": {},
   "outputs": [
    {
     "data": {
      "text/plain": [
       "'~female+age+educ'"
      ]
     },
     "execution_count": 126,
     "metadata": {},
     "output_type": "execute_result"
    }
   ],
   "source": [
    "modellev1"
   ]
  },
  {
   "cell_type": "code",
   "execution_count": 130,
   "id": "30903521",
   "metadata": {},
   "outputs": [
    {
     "data": {
      "text/html": [
       "<table style=\"text-align:center\"><tr><td colspan=\"5\" style=\"border-bottom: 1px solid black\"></td></tr><tr><td style=\"text-align:left\"></td><td colspan=\"4\"><em>Dependent variable:lnw</em></td></tr><tr><td style=\"text-align:left\"></td><tr><td></td><td colspan=\"1\">ln wage</td><td colspan=\"1\">ln wage</td><td colspan=\"1\">ln wage</td><td colspan=\"1\">ln wage</td></tr><tr><td style=\"text-align:left\"></td><td>(1)</td><td>(2)</td><td>(3)</td><td>(4)</td></tr><tr><td colspan=\"5\" style=\"border-bottom: 1px solid black\"></td></tr><tr><td style=\"text-align:left\">female</td><td>-0.202<sup>***</sup></td><td>-0.205<sup>***</sup></td><td>-0.107<sup>***</sup></td><td>0.065<sup></sup></td></tr><tr><td style=\"text-align:left\"></td><td>(0.024)</td><td>(0.023)</td><td>(0.034)</td><td>(0.098)</td></tr><tr><td style=\"text-align:left\">age</td><td>0.011<sup>***</sup></td><td>0.038<sup></sup></td><td>0.074<sup></sup></td><td>0.089<sup></sup></td></tr><tr><td style=\"text-align:left\"></td><td>(0.001)</td><td>(0.246)</td><td>(0.240)</td><td>(0.239)</td></tr><tr><td style=\"text-align:left\">Constant</td><td>1.376<sup>***</sup></td><td>1.852<sup></sup></td><td>1.457<sup></sup></td><td>0.845<sup></sup></td></tr><tr><td style=\"text-align:left\"></td><td>(0.138)</td><td>(2.395)</td><td>(2.336)</td><td>(2.346)</td></tr><td colspan=\"5\" style=\"border-bottom: 1px solid black\"></td></tr><tr><td style=\"text-align: left\">Observations</td><td>2,724</td><td>2,724</td><td>2,724</td><td>2,724</td></tr><tr><td style=\"text-align: left\">R<sup>2</sup></td><td>0.130</td><td>0.143</td><td>0.153</td><td>0.166</td></tr><tr><td style=\"text-align: left\">Adjusted R<sup>2</sup></td><td>0.129</td><td>0.141</td><td>0.147</td><td>0.152</td></tr><tr><td style=\"text-align: left\">Residual Std. Error</td><td>0.575 (df=2720)</td><td>0.571 (df=2714)</td><td>0.569 (df=2705)</td><td>0.567 (df=2680)</td></tr><tr><td style=\"text-align: left\">F Statistic</td><td>152.995<sup>***</sup> (df=3; 2720)</td><td>61.627<sup>***</sup> (df=9; 2714)</td><td>31.322<sup>***</sup> (df=18; 2705)</td><td>1928.938<sup>***</sup> (df=43; 2680)</td></tr><tr><td colspan=\"5\" style=\"border-bottom: 1px solid black\"></td></tr><tr><td style=\"text-align: left\">Note:</td>\n",
       " <td colspan=\"4\" style=\"text-align: right\">\n",
       "  <sup>*</sup>p&lt;0.1;\n",
       "  <sup>**</sup>p&lt;0.05;\n",
       "  <sup>***</sup>p&lt;0.01\n",
       " </td></tr></table>"
      ],
      "text/plain": [
       "<stargazer.stargazer.Stargazer at 0x2930e51b6d0>"
      ]
     },
     "execution_count": 130,
     "metadata": {},
     "output_type": "execute_result"
    }
   ],
   "source": [
    "stargazer = Stargazer([reg1, reg2, reg3, reg4])\n",
    "stargazer.custom_columns([\"ln wage\", \"ln wage\", \"ln wage\", \"ln wage\"], [1, 1, 1, 1])\n",
    "stargazer.covariate_order(\n",
    "    [\"female\", \"age\", \"Intercept\"]\n",
    ")\n",
    "stargazer.rename_covariates({\"Intercept\": \"Constant\"})\n",
    "stargazer"
   ]
  },
  {
   "cell_type": "markdown",
   "id": "39927689",
   "metadata": {},
   "source": [
    "### Cross-validated RMSE "
   ]
  },
  {
   "cell_type": "code",
   "execution_count": null,
   "id": "d4a1b5d7",
   "metadata": {},
   "outputs": [],
   "source": []
  },
  {
   "cell_type": "code",
   "execution_count": null,
   "id": "11d26f34",
   "metadata": {},
   "outputs": [],
   "source": []
  },
  {
   "cell_type": "markdown",
   "id": "dda39917",
   "metadata": {},
   "source": [
    "### Results"
   ]
  },
  {
   "cell_type": "code",
   "execution_count": 21,
   "id": "908effd9",
   "metadata": {},
   "outputs": [
    {
     "data": {
      "text/html": [
       "<div>\n",
       "<style scoped>\n",
       "    .dataframe tbody tr th:only-of-type {\n",
       "        vertical-align: middle;\n",
       "    }\n",
       "\n",
       "    .dataframe tbody tr th {\n",
       "        vertical-align: top;\n",
       "    }\n",
       "\n",
       "    .dataframe thead th {\n",
       "        text-align: right;\n",
       "    }\n",
       "</style>\n",
       "<table border=\"1\" class=\"dataframe\">\n",
       "  <thead>\n",
       "    <tr style=\"text-align: right;\">\n",
       "      <th></th>\n",
       "      <th>lfsr94</th>\n",
       "      <th>hhid</th>\n",
       "      <th>lineno</th>\n",
       "      <th>intmonth</th>\n",
       "      <th>stfips</th>\n",
       "      <th>weight</th>\n",
       "      <th>earnwke</th>\n",
       "      <th>uhours</th>\n",
       "      <th>grade92</th>\n",
       "      <th>race</th>\n",
       "      <th>...</th>\n",
       "      <th>ownchild</th>\n",
       "      <th>chldpres</th>\n",
       "      <th>prcitshp</th>\n",
       "      <th>state</th>\n",
       "      <th>ind02</th>\n",
       "      <th>occ2012</th>\n",
       "      <th>class</th>\n",
       "      <th>unionmme</th>\n",
       "      <th>unioncov</th>\n",
       "      <th>sample</th>\n",
       "    </tr>\n",
       "  </thead>\n",
       "  <tbody>\n",
       "    <tr>\n",
       "      <th>0</th>\n",
       "      <td>Employed-At Work</td>\n",
       "      <td>954001919079770</td>\n",
       "      <td>2</td>\n",
       "      <td>January</td>\n",
       "      <td>AL</td>\n",
       "      <td>3677.7816</td>\n",
       "      <td>680.0</td>\n",
       "      <td>40</td>\n",
       "      <td>43</td>\n",
       "      <td>1</td>\n",
       "      <td>...</td>\n",
       "      <td>0</td>\n",
       "      <td>0</td>\n",
       "      <td>Native, Born In US</td>\n",
       "      <td>63</td>\n",
       "      <td>Non-depository credit and related activities (...</td>\n",
       "      <td>800</td>\n",
       "      <td>Private, For Profit</td>\n",
       "      <td>No</td>\n",
       "      <td>No</td>\n",
       "      <td>1.0</td>\n",
       "    </tr>\n",
       "    <tr>\n",
       "      <th>1</th>\n",
       "      <td>Employed-At Work</td>\n",
       "      <td>507001320102921</td>\n",
       "      <td>1</td>\n",
       "      <td>January</td>\n",
       "      <td>AL</td>\n",
       "      <td>3296.7986</td>\n",
       "      <td>2000.0</td>\n",
       "      <td>50</td>\n",
       "      <td>44</td>\n",
       "      <td>1</td>\n",
       "      <td>...</td>\n",
       "      <td>1</td>\n",
       "      <td>1</td>\n",
       "      <td>Native, Born In US</td>\n",
       "      <td>63</td>\n",
       "      <td>Real estate (531)</td>\n",
       "      <td>800</td>\n",
       "      <td>Private, For Profit</td>\n",
       "      <td>No</td>\n",
       "      <td>No</td>\n",
       "      <td>1.0</td>\n",
       "    </tr>\n",
       "    <tr>\n",
       "      <th>2</th>\n",
       "      <td>Employed-At Work</td>\n",
       "      <td>510915094903939</td>\n",
       "      <td>2</td>\n",
       "      <td>January</td>\n",
       "      <td>AL</td>\n",
       "      <td>3419.5125</td>\n",
       "      <td>1923.0</td>\n",
       "      <td>40</td>\n",
       "      <td>43</td>\n",
       "      <td>1</td>\n",
       "      <td>...</td>\n",
       "      <td>2</td>\n",
       "      <td>10</td>\n",
       "      <td>Native, Born In US</td>\n",
       "      <td>63</td>\n",
       "      <td>Banking and related activities (521, 52211,52219)</td>\n",
       "      <td>910</td>\n",
       "      <td>Private, For Profit</td>\n",
       "      <td>No</td>\n",
       "      <td>No</td>\n",
       "      <td>1.0</td>\n",
       "    </tr>\n",
       "    <tr>\n",
       "      <th>3</th>\n",
       "      <td>Employed-At Work</td>\n",
       "      <td>210033043908195</td>\n",
       "      <td>5</td>\n",
       "      <td>January</td>\n",
       "      <td>AL</td>\n",
       "      <td>4563.6243</td>\n",
       "      <td>280.0</td>\n",
       "      <td>32</td>\n",
       "      <td>42</td>\n",
       "      <td>1</td>\n",
       "      <td>...</td>\n",
       "      <td>0</td>\n",
       "      <td>0</td>\n",
       "      <td>Native, Born In US</td>\n",
       "      <td>63</td>\n",
       "      <td>Recreational vehicle parks and camps, and room...</td>\n",
       "      <td>800</td>\n",
       "      <td>Private, For Profit</td>\n",
       "      <td>No</td>\n",
       "      <td>No</td>\n",
       "      <td>1.0</td>\n",
       "    </tr>\n",
       "    <tr>\n",
       "      <th>4</th>\n",
       "      <td>Employed-At Work</td>\n",
       "      <td>981071966079500</td>\n",
       "      <td>2</td>\n",
       "      <td>January</td>\n",
       "      <td>AL</td>\n",
       "      <td>2416.8545</td>\n",
       "      <td>800.0</td>\n",
       "      <td>40</td>\n",
       "      <td>42</td>\n",
       "      <td>2</td>\n",
       "      <td>...</td>\n",
       "      <td>1</td>\n",
       "      <td>4</td>\n",
       "      <td>Native, Born In US</td>\n",
       "      <td>63</td>\n",
       "      <td>Savings institutions, including credit unions ...</td>\n",
       "      <td>910</td>\n",
       "      <td>Private, For Profit</td>\n",
       "      <td>No</td>\n",
       "      <td>No</td>\n",
       "      <td>1.0</td>\n",
       "    </tr>\n",
       "    <tr>\n",
       "      <th>...</th>\n",
       "      <td>...</td>\n",
       "      <td>...</td>\n",
       "      <td>...</td>\n",
       "      <td>...</td>\n",
       "      <td>...</td>\n",
       "      <td>...</td>\n",
       "      <td>...</td>\n",
       "      <td>...</td>\n",
       "      <td>...</td>\n",
       "      <td>...</td>\n",
       "      <td>...</td>\n",
       "      <td>...</td>\n",
       "      <td>...</td>\n",
       "      <td>...</td>\n",
       "      <td>...</td>\n",
       "      <td>...</td>\n",
       "      <td>...</td>\n",
       "      <td>...</td>\n",
       "      <td>...</td>\n",
       "      <td>...</td>\n",
       "      <td>...</td>\n",
       "    </tr>\n",
       "    <tr>\n",
       "      <th>3399</th>\n",
       "      <td>Employed-At Work</td>\n",
       "      <td>050510000344676</td>\n",
       "      <td>1</td>\n",
       "      <td>December</td>\n",
       "      <td>WI</td>\n",
       "      <td>3677.216</td>\n",
       "      <td>580.0</td>\n",
       "      <td>42</td>\n",
       "      <td>43</td>\n",
       "      <td>1</td>\n",
       "      <td>...</td>\n",
       "      <td>0</td>\n",
       "      <td>0</td>\n",
       "      <td>Native, Born In US</td>\n",
       "      <td>3</td>\n",
       "      <td>** Construction (23)</td>\n",
       "      <td>800</td>\n",
       "      <td>Private, For Profit</td>\n",
       "      <td>No</td>\n",
       "      <td>No</td>\n",
       "      <td>1.0</td>\n",
       "    </tr>\n",
       "    <tr>\n",
       "      <th>3400</th>\n",
       "      <td>Employed-At Work</td>\n",
       "      <td>506902605991185</td>\n",
       "      <td>2</td>\n",
       "      <td>December</td>\n",
       "      <td>WI</td>\n",
       "      <td>403.3448</td>\n",
       "      <td>1538.46</td>\n",
       "      <td>48</td>\n",
       "      <td>43</td>\n",
       "      <td>1</td>\n",
       "      <td>...</td>\n",
       "      <td>0</td>\n",
       "      <td>0</td>\n",
       "      <td>Native, Born In US</td>\n",
       "      <td>3</td>\n",
       "      <td>Nursing care facilities (6231)</td>\n",
       "      <td>840</td>\n",
       "      <td>Private, Nonprofit</td>\n",
       "      <td>No</td>\n",
       "      <td>No</td>\n",
       "      <td>1.0</td>\n",
       "    </tr>\n",
       "    <tr>\n",
       "      <th>3401</th>\n",
       "      <td>Employed-At Work</td>\n",
       "      <td>955161170004307</td>\n",
       "      <td>2</td>\n",
       "      <td>December</td>\n",
       "      <td>WI</td>\n",
       "      <td>3794.4402</td>\n",
       "      <td>1057.69</td>\n",
       "      <td>40</td>\n",
       "      <td>42</td>\n",
       "      <td>1</td>\n",
       "      <td>...</td>\n",
       "      <td>0</td>\n",
       "      <td>0</td>\n",
       "      <td>Native, Born In US</td>\n",
       "      <td>3</td>\n",
       "      <td>Real estate (531)</td>\n",
       "      <td>800</td>\n",
       "      <td>Private, For Profit</td>\n",
       "      <td>No</td>\n",
       "      <td>No</td>\n",
       "      <td>1.0</td>\n",
       "    </tr>\n",
       "    <tr>\n",
       "      <th>3402</th>\n",
       "      <td>Employed-At Work</td>\n",
       "      <td>816460901300501</td>\n",
       "      <td>1</td>\n",
       "      <td>December</td>\n",
       "      <td>WY</td>\n",
       "      <td>275.7171</td>\n",
       "      <td>1923.07</td>\n",
       "      <td>40</td>\n",
       "      <td>43</td>\n",
       "      <td>1</td>\n",
       "      <td>...</td>\n",
       "      <td>1</td>\n",
       "      <td>3</td>\n",
       "      <td>Native, Born In US</td>\n",
       "      <td>8</td>\n",
       "      <td>Banking and related activities (521, 52211,52219)</td>\n",
       "      <td>910</td>\n",
       "      <td>Private, For Profit</td>\n",
       "      <td>No</td>\n",
       "      <td>No</td>\n",
       "      <td>1.0</td>\n",
       "    </tr>\n",
       "    <tr>\n",
       "      <th>3403</th>\n",
       "      <td>Employed-At Work</td>\n",
       "      <td>506605705991936</td>\n",
       "      <td>2</td>\n",
       "      <td>December</td>\n",
       "      <td>WY</td>\n",
       "      <td>277.3311</td>\n",
       "      <td>560.0</td>\n",
       "      <td>40</td>\n",
       "      <td>43</td>\n",
       "      <td>1</td>\n",
       "      <td>...</td>\n",
       "      <td>0</td>\n",
       "      <td>0</td>\n",
       "      <td>Native, Born In US</td>\n",
       "      <td>8</td>\n",
       "      <td>Offices of physicians (6211)</td>\n",
       "      <td>800</td>\n",
       "      <td>Private, For Profit</td>\n",
       "      <td>No</td>\n",
       "      <td>No</td>\n",
       "      <td>1.0</td>\n",
       "    </tr>\n",
       "  </tbody>\n",
       "</table>\n",
       "<p>3404 rows × 24 columns</p>\n",
       "</div>"
      ],
      "text/plain": [
       "                lfsr94             hhid lineno  intmonth stfips     weight  \\\n",
       "0     Employed-At Work  954001919079770      2   January     AL  3677.7816   \n",
       "1     Employed-At Work  507001320102921      1   January     AL  3296.7986   \n",
       "2     Employed-At Work  510915094903939      2   January     AL  3419.5125   \n",
       "3     Employed-At Work  210033043908195      5   January     AL  4563.6243   \n",
       "4     Employed-At Work  981071966079500      2   January     AL  2416.8545   \n",
       "...                ...              ...    ...       ...    ...        ...   \n",
       "3399  Employed-At Work  050510000344676      1  December     WI   3677.216   \n",
       "3400  Employed-At Work  506902605991185      2  December     WI   403.3448   \n",
       "3401  Employed-At Work  955161170004307      2  December     WI  3794.4402   \n",
       "3402  Employed-At Work  816460901300501      1  December     WY   275.7171   \n",
       "3403  Employed-At Work  506605705991936      2  December     WY   277.3311   \n",
       "\n",
       "      earnwke uhours grade92 race  ... ownchild chldpres            prcitshp  \\\n",
       "0       680.0     40      43    1  ...        0        0  Native, Born In US   \n",
       "1      2000.0     50      44    1  ...        1        1  Native, Born In US   \n",
       "2      1923.0     40      43    1  ...        2       10  Native, Born In US   \n",
       "3       280.0     32      42    1  ...        0        0  Native, Born In US   \n",
       "4       800.0     40      42    2  ...        1        4  Native, Born In US   \n",
       "...       ...    ...     ...  ...  ...      ...      ...                 ...   \n",
       "3399    580.0     42      43    1  ...        0        0  Native, Born In US   \n",
       "3400  1538.46     48      43    1  ...        0        0  Native, Born In US   \n",
       "3401  1057.69     40      42    1  ...        0        0  Native, Born In US   \n",
       "3402  1923.07     40      43    1  ...        1        3  Native, Born In US   \n",
       "3403    560.0     40      43    1  ...        0        0  Native, Born In US   \n",
       "\n",
       "     state                                              ind02 occ2012  \\\n",
       "0       63  Non-depository credit and related activities (...     800   \n",
       "1       63                                  Real estate (531)     800   \n",
       "2       63  Banking and related activities (521, 52211,52219)     910   \n",
       "3       63  Recreational vehicle parks and camps, and room...     800   \n",
       "4       63  Savings institutions, including credit unions ...     910   \n",
       "...    ...                                                ...     ...   \n",
       "3399     3                               ** Construction (23)     800   \n",
       "3400     3                     Nursing care facilities (6231)     840   \n",
       "3401     3                                  Real estate (531)     800   \n",
       "3402     8  Banking and related activities (521, 52211,52219)     910   \n",
       "3403     8                       Offices of physicians (6211)     800   \n",
       "\n",
       "                    class unionmme unioncov  sample  \n",
       "0     Private, For Profit       No       No     1.0  \n",
       "1     Private, For Profit       No       No     1.0  \n",
       "2     Private, For Profit       No       No     1.0  \n",
       "3     Private, For Profit       No       No     1.0  \n",
       "4     Private, For Profit       No       No     1.0  \n",
       "...                   ...      ...      ...     ...  \n",
       "3399  Private, For Profit       No       No     1.0  \n",
       "3400   Private, Nonprofit       No       No     1.0  \n",
       "3401  Private, For Profit       No       No     1.0  \n",
       "3402  Private, For Profit       No       No     1.0  \n",
       "3403  Private, For Profit       No       No     1.0  \n",
       "\n",
       "[3404 rows x 24 columns]"
      ]
     },
     "execution_count": 21,
     "metadata": {},
     "output_type": "execute_result"
    }
   ],
   "source": [
    "df"
   ]
  },
  {
   "cell_type": "code",
   "execution_count": 93,
   "id": "dfa312df",
   "metadata": {},
   "outputs": [
    {
     "data": {
      "text/plain": [
       "count    3404.0\n",
       "mean        1.0\n",
       "std         0.0\n",
       "min         1.0\n",
       "25%         1.0\n",
       "50%         1.0\n",
       "75%         1.0\n",
       "max         1.0\n",
       "Name: havechild, dtype: float64"
      ]
     },
     "execution_count": 93,
     "metadata": {},
     "output_type": "execute_result"
    }
   ],
   "source": [
    "df[\"havechild\"].describe()"
   ]
  },
  {
   "cell_type": "code",
   "execution_count": 65,
   "id": "ac8c6316",
   "metadata": {},
   "outputs": [
    {
     "data": {
      "text/plain": [
       "2    2055\n",
       "1    1349\n",
       "Name: sex, dtype: int64"
      ]
     },
     "execution_count": 65,
     "metadata": {},
     "output_type": "execute_result"
    }
   ],
   "source": [
    "df[\"sex\"].value_counts()"
   ]
  },
  {
   "cell_type": "code",
   "execution_count": 67,
   "id": "2be084fb",
   "metadata": {},
   "outputs": [
    {
     "name": "stdout",
     "output_type": "stream",
     "text": [
      "[1 2]\n",
      "[1 2]\n",
      "[1 2]\n",
      "[1 2]\n",
      "[1 2]\n",
      "[1 2]\n",
      "[1 2]\n",
      "[1 2]\n",
      "[1 2]\n",
      "[1 2]\n",
      "[1 2]\n",
      "[1 2]\n",
      "[1 2]\n",
      "[1 2]\n",
      "[1 2]\n",
      "[1 2]\n",
      "[1 2]\n",
      "[1 2]\n",
      "[1 2]\n",
      "[1 2]\n",
      "[1 2]\n",
      "[1 2]\n",
      "[1 2]\n"
     ]
    }
   ],
   "source": [
    "for col in df:\n",
    "    print(df[\"sex\"].unique())"
   ]
  },
  {
   "cell_type": "code",
   "execution_count": 78,
   "id": "2b491ea7",
   "metadata": {},
   "outputs": [
    {
     "data": {
      "text/plain": [
       "earnwke      float64\n",
       "uhours         int64\n",
       "age            int64\n",
       "occ2012        int64\n",
       "female         int32\n",
       "w            float64\n",
       "lnw          float64\n",
       "agesq          int64\n",
       "agecu          int64\n",
       "agequ          int64\n",
       "married        int32\n",
       "white          int32\n",
       "afram          int32\n",
       "asian          int32\n",
       "hisp           int32\n",
       "othernonw      int32\n",
       "nonUSborn      int32\n",
       "havechild      int32\n",
       "educ           int32\n",
       "educsq         int32\n",
       "educcu         int32\n",
       "educqu         int32\n",
       "dtype: object"
      ]
     },
     "execution_count": 78,
     "metadata": {},
     "output_type": "execute_result"
    }
   ],
   "source": [
    "df.dtypes"
   ]
  },
  {
   "cell_type": "code",
   "execution_count": 70,
   "id": "88f30d14",
   "metadata": {},
   "outputs": [
    {
     "data": {
      "text/html": [
       "<div>\n",
       "<style scoped>\n",
       "    .dataframe tbody tr th:only-of-type {\n",
       "        vertical-align: middle;\n",
       "    }\n",
       "\n",
       "    .dataframe tbody tr th {\n",
       "        vertical-align: top;\n",
       "    }\n",
       "\n",
       "    .dataframe thead th {\n",
       "        text-align: right;\n",
       "    }\n",
       "</style>\n",
       "<table border=\"1\" class=\"dataframe\">\n",
       "  <thead>\n",
       "    <tr style=\"text-align: right;\">\n",
       "      <th></th>\n",
       "      <th>earnwke</th>\n",
       "      <th>uhours</th>\n",
       "      <th>age</th>\n",
       "      <th>occ2012</th>\n",
       "      <th>female</th>\n",
       "      <th>w</th>\n",
       "      <th>lnw</th>\n",
       "      <th>agesq</th>\n",
       "      <th>agecu</th>\n",
       "      <th>agequ</th>\n",
       "      <th>...</th>\n",
       "      <th>afram</th>\n",
       "      <th>asian</th>\n",
       "      <th>hisp</th>\n",
       "      <th>othernonw</th>\n",
       "      <th>nonUSborn</th>\n",
       "      <th>havechild</th>\n",
       "      <th>educ</th>\n",
       "      <th>educsq</th>\n",
       "      <th>educcu</th>\n",
       "      <th>educqu</th>\n",
       "    </tr>\n",
       "  </thead>\n",
       "  <tbody>\n",
       "    <tr>\n",
       "      <th>0</th>\n",
       "      <td>680.0</td>\n",
       "      <td>40</td>\n",
       "      <td>27</td>\n",
       "      <td>800</td>\n",
       "      <td>0</td>\n",
       "      <td>17.000</td>\n",
       "      <td>2.833213</td>\n",
       "      <td>729</td>\n",
       "      <td>19683</td>\n",
       "      <td>531441</td>\n",
       "      <td>...</td>\n",
       "      <td>0</td>\n",
       "      <td>0</td>\n",
       "      <td>0</td>\n",
       "      <td>0</td>\n",
       "      <td>0</td>\n",
       "      <td>1</td>\n",
       "      <td>16</td>\n",
       "      <td>256</td>\n",
       "      <td>4096</td>\n",
       "      <td>65536</td>\n",
       "    </tr>\n",
       "    <tr>\n",
       "      <th>1</th>\n",
       "      <td>2000.0</td>\n",
       "      <td>50</td>\n",
       "      <td>48</td>\n",
       "      <td>800</td>\n",
       "      <td>0</td>\n",
       "      <td>40.000</td>\n",
       "      <td>3.688879</td>\n",
       "      <td>2304</td>\n",
       "      <td>110592</td>\n",
       "      <td>5308416</td>\n",
       "      <td>...</td>\n",
       "      <td>0</td>\n",
       "      <td>0</td>\n",
       "      <td>0</td>\n",
       "      <td>0</td>\n",
       "      <td>0</td>\n",
       "      <td>1</td>\n",
       "      <td>18</td>\n",
       "      <td>324</td>\n",
       "      <td>5832</td>\n",
       "      <td>104976</td>\n",
       "    </tr>\n",
       "    <tr>\n",
       "      <th>2</th>\n",
       "      <td>1923.0</td>\n",
       "      <td>40</td>\n",
       "      <td>47</td>\n",
       "      <td>910</td>\n",
       "      <td>0</td>\n",
       "      <td>48.075</td>\n",
       "      <td>3.872762</td>\n",
       "      <td>2209</td>\n",
       "      <td>103823</td>\n",
       "      <td>4879681</td>\n",
       "      <td>...</td>\n",
       "      <td>0</td>\n",
       "      <td>0</td>\n",
       "      <td>0</td>\n",
       "      <td>0</td>\n",
       "      <td>0</td>\n",
       "      <td>1</td>\n",
       "      <td>16</td>\n",
       "      <td>256</td>\n",
       "      <td>4096</td>\n",
       "      <td>65536</td>\n",
       "    </tr>\n",
       "    <tr>\n",
       "      <th>3</th>\n",
       "      <td>280.0</td>\n",
       "      <td>32</td>\n",
       "      <td>24</td>\n",
       "      <td>800</td>\n",
       "      <td>0</td>\n",
       "      <td>8.750</td>\n",
       "      <td>2.169054</td>\n",
       "      <td>576</td>\n",
       "      <td>13824</td>\n",
       "      <td>331776</td>\n",
       "      <td>...</td>\n",
       "      <td>0</td>\n",
       "      <td>0</td>\n",
       "      <td>0</td>\n",
       "      <td>0</td>\n",
       "      <td>0</td>\n",
       "      <td>1</td>\n",
       "      <td>15</td>\n",
       "      <td>225</td>\n",
       "      <td>3375</td>\n",
       "      <td>50625</td>\n",
       "    </tr>\n",
       "    <tr>\n",
       "      <th>4</th>\n",
       "      <td>800.0</td>\n",
       "      <td>40</td>\n",
       "      <td>42</td>\n",
       "      <td>910</td>\n",
       "      <td>1</td>\n",
       "      <td>20.000</td>\n",
       "      <td>2.995732</td>\n",
       "      <td>1764</td>\n",
       "      <td>74088</td>\n",
       "      <td>3111696</td>\n",
       "      <td>...</td>\n",
       "      <td>1</td>\n",
       "      <td>0</td>\n",
       "      <td>0</td>\n",
       "      <td>0</td>\n",
       "      <td>0</td>\n",
       "      <td>1</td>\n",
       "      <td>15</td>\n",
       "      <td>225</td>\n",
       "      <td>3375</td>\n",
       "      <td>50625</td>\n",
       "    </tr>\n",
       "  </tbody>\n",
       "</table>\n",
       "<p>5 rows × 22 columns</p>\n",
       "</div>"
      ],
      "text/plain": [
       "   earnwke  uhours  age  occ2012  female       w       lnw  agesq   agecu  \\\n",
       "0    680.0      40   27      800       0  17.000  2.833213    729   19683   \n",
       "1   2000.0      50   48      800       0  40.000  3.688879   2304  110592   \n",
       "2   1923.0      40   47      910       0  48.075  3.872762   2209  103823   \n",
       "3    280.0      32   24      800       0   8.750  2.169054    576   13824   \n",
       "4    800.0      40   42      910       1  20.000  2.995732   1764   74088   \n",
       "\n",
       "     agequ  ...  afram  asian  hisp  othernonw  nonUSborn  havechild  educ  \\\n",
       "0   531441  ...      0      0     0          0          0          1    16   \n",
       "1  5308416  ...      0      0     0          0          0          1    18   \n",
       "2  4879681  ...      0      0     0          0          0          1    16   \n",
       "3   331776  ...      0      0     0          0          0          1    15   \n",
       "4  3111696  ...      1      0     0          0          0          1    15   \n",
       "\n",
       "   educsq  educcu  educqu  \n",
       "0     256    4096   65536  \n",
       "1     324    5832  104976  \n",
       "2     256    4096   65536  \n",
       "3     225    3375   50625  \n",
       "4     225    3375   50625  \n",
       "\n",
       "[5 rows x 22 columns]"
      ]
     },
     "execution_count": 70,
     "metadata": {},
     "output_type": "execute_result"
    }
   ],
   "source": [
    "df.head()"
   ]
  },
  {
   "cell_type": "code",
   "execution_count": 57,
   "id": "e33e0d0d",
   "metadata": {},
   "outputs": [
    {
     "data": {
      "text/html": [
       "<div>\n",
       "<style scoped>\n",
       "    .dataframe tbody tr th:only-of-type {\n",
       "        vertical-align: middle;\n",
       "    }\n",
       "\n",
       "    .dataframe tbody tr th {\n",
       "        vertical-align: top;\n",
       "    }\n",
       "\n",
       "    .dataframe thead th {\n",
       "        text-align: right;\n",
       "    }\n",
       "</style>\n",
       "<table border=\"1\" class=\"dataframe\">\n",
       "  <thead>\n",
       "    <tr style=\"text-align: right;\">\n",
       "      <th></th>\n",
       "      <th>hhid</th>\n",
       "      <th>lineno</th>\n",
       "      <th>weight</th>\n",
       "      <th>earnwke</th>\n",
       "      <th>uhours</th>\n",
       "      <th>grade92</th>\n",
       "      <th>race</th>\n",
       "      <th>ethnic</th>\n",
       "      <th>age</th>\n",
       "      <th>sex</th>\n",
       "      <th>...</th>\n",
       "      <th>afram</th>\n",
       "      <th>asian</th>\n",
       "      <th>hisp</th>\n",
       "      <th>othernonw</th>\n",
       "      <th>nonUSborn</th>\n",
       "      <th>havechild</th>\n",
       "      <th>educ</th>\n",
       "      <th>educsq</th>\n",
       "      <th>educcu</th>\n",
       "      <th>educqu</th>\n",
       "    </tr>\n",
       "  </thead>\n",
       "  <tbody>\n",
       "    <tr>\n",
       "      <th>count</th>\n",
       "      <td>3.404000e+03</td>\n",
       "      <td>3404.000000</td>\n",
       "      <td>3404.000000</td>\n",
       "      <td>3404.000000</td>\n",
       "      <td>3404.000000</td>\n",
       "      <td>3404.000000</td>\n",
       "      <td>3404.000000</td>\n",
       "      <td>224.000000</td>\n",
       "      <td>3404.000000</td>\n",
       "      <td>3404.000000</td>\n",
       "      <td>...</td>\n",
       "      <td>3404.000000</td>\n",
       "      <td>3404.000000</td>\n",
       "      <td>3404.000000</td>\n",
       "      <td>3404.000000</td>\n",
       "      <td>3404.000000</td>\n",
       "      <td>3404.0</td>\n",
       "      <td>3404.000000</td>\n",
       "      <td>3404.000000</td>\n",
       "      <td>3404.000000</td>\n",
       "      <td>3404.000000</td>\n",
       "    </tr>\n",
       "    <tr>\n",
       "      <th>mean</th>\n",
       "      <td>4.389977e+14</td>\n",
       "      <td>1.561398</td>\n",
       "      <td>2352.193724</td>\n",
       "      <td>1252.053637</td>\n",
       "      <td>41.211222</td>\n",
       "      <td>42.428613</td>\n",
       "      <td>1.409224</td>\n",
       "      <td>2.892857</td>\n",
       "      <td>42.066392</td>\n",
       "      <td>1.603702</td>\n",
       "      <td>...</td>\n",
       "      <td>0.074912</td>\n",
       "      <td>0.080787</td>\n",
       "      <td>0.065805</td>\n",
       "      <td>0.014982</td>\n",
       "      <td>0.123090</td>\n",
       "      <td>1.0</td>\n",
       "      <td>15.814630</td>\n",
       "      <td>252.328731</td>\n",
       "      <td>4058.219448</td>\n",
       "      <td>65764.118390</td>\n",
       "    </tr>\n",
       "    <tr>\n",
       "      <th>std</th>\n",
       "      <td>3.231419e+14</td>\n",
       "      <td>0.765892</td>\n",
       "      <td>1255.320431</td>\n",
       "      <td>685.573216</td>\n",
       "      <td>7.328230</td>\n",
       "      <td>1.592634</td>\n",
       "      <td>1.134368</td>\n",
       "      <td>2.594776</td>\n",
       "      <td>11.538753</td>\n",
       "      <td>0.489200</td>\n",
       "      <td>...</td>\n",
       "      <td>0.263288</td>\n",
       "      <td>0.272548</td>\n",
       "      <td>0.247977</td>\n",
       "      <td>0.121500</td>\n",
       "      <td>0.328589</td>\n",
       "      <td>0.0</td>\n",
       "      <td>1.492269</td>\n",
       "      <td>45.770573</td>\n",
       "      <td>1085.429463</td>\n",
       "      <td>23280.293888</td>\n",
       "    </tr>\n",
       "    <tr>\n",
       "      <th>min</th>\n",
       "      <td>1.718648e+10</td>\n",
       "      <td>1.000000</td>\n",
       "      <td>149.658300</td>\n",
       "      <td>0.400000</td>\n",
       "      <td>1.000000</td>\n",
       "      <td>31.000000</td>\n",
       "      <td>1.000000</td>\n",
       "      <td>1.000000</td>\n",
       "      <td>17.000000</td>\n",
       "      <td>1.000000</td>\n",
       "      <td>...</td>\n",
       "      <td>0.000000</td>\n",
       "      <td>0.000000</td>\n",
       "      <td>0.000000</td>\n",
       "      <td>0.000000</td>\n",
       "      <td>0.000000</td>\n",
       "      <td>1.0</td>\n",
       "      <td>1.000000</td>\n",
       "      <td>1.000000</td>\n",
       "      <td>1.000000</td>\n",
       "      <td>1.000000</td>\n",
       "    </tr>\n",
       "    <tr>\n",
       "      <th>25%</th>\n",
       "      <td>1.182361e+14</td>\n",
       "      <td>1.000000</td>\n",
       "      <td>1284.668025</td>\n",
       "      <td>758.307500</td>\n",
       "      <td>40.000000</td>\n",
       "      <td>42.000000</td>\n",
       "      <td>1.000000</td>\n",
       "      <td>1.000000</td>\n",
       "      <td>32.000000</td>\n",
       "      <td>1.000000</td>\n",
       "      <td>...</td>\n",
       "      <td>0.000000</td>\n",
       "      <td>0.000000</td>\n",
       "      <td>0.000000</td>\n",
       "      <td>0.000000</td>\n",
       "      <td>0.000000</td>\n",
       "      <td>1.0</td>\n",
       "      <td>15.000000</td>\n",
       "      <td>225.000000</td>\n",
       "      <td>3375.000000</td>\n",
       "      <td>50625.000000</td>\n",
       "    </tr>\n",
       "    <tr>\n",
       "      <th>50%</th>\n",
       "      <td>4.043134e+14</td>\n",
       "      <td>1.000000</td>\n",
       "      <td>2679.500250</td>\n",
       "      <td>1057.690000</td>\n",
       "      <td>40.000000</td>\n",
       "      <td>43.000000</td>\n",
       "      <td>1.000000</td>\n",
       "      <td>1.000000</td>\n",
       "      <td>42.000000</td>\n",
       "      <td>2.000000</td>\n",
       "      <td>...</td>\n",
       "      <td>0.000000</td>\n",
       "      <td>0.000000</td>\n",
       "      <td>0.000000</td>\n",
       "      <td>0.000000</td>\n",
       "      <td>0.000000</td>\n",
       "      <td>1.0</td>\n",
       "      <td>16.000000</td>\n",
       "      <td>256.000000</td>\n",
       "      <td>4096.000000</td>\n",
       "      <td>65536.000000</td>\n",
       "    </tr>\n",
       "    <tr>\n",
       "      <th>75%</th>\n",
       "      <td>7.209905e+14</td>\n",
       "      <td>2.000000</td>\n",
       "      <td>3303.234300</td>\n",
       "      <td>1581.190000</td>\n",
       "      <td>40.000000</td>\n",
       "      <td>43.000000</td>\n",
       "      <td>1.000000</td>\n",
       "      <td>5.000000</td>\n",
       "      <td>52.000000</td>\n",
       "      <td>2.000000</td>\n",
       "      <td>...</td>\n",
       "      <td>0.000000</td>\n",
       "      <td>0.000000</td>\n",
       "      <td>0.000000</td>\n",
       "      <td>0.000000</td>\n",
       "      <td>0.000000</td>\n",
       "      <td>1.0</td>\n",
       "      <td>16.000000</td>\n",
       "      <td>256.000000</td>\n",
       "      <td>4096.000000</td>\n",
       "      <td>65536.000000</td>\n",
       "    </tr>\n",
       "    <tr>\n",
       "      <th>max</th>\n",
       "      <td>9.999404e+14</td>\n",
       "      <td>7.000000</td>\n",
       "      <td>7411.615800</td>\n",
       "      <td>2884.610000</td>\n",
       "      <td>92.000000</td>\n",
       "      <td>46.000000</td>\n",
       "      <td>21.000000</td>\n",
       "      <td>8.000000</td>\n",
       "      <td>64.000000</td>\n",
       "      <td>2.000000</td>\n",
       "      <td>...</td>\n",
       "      <td>1.000000</td>\n",
       "      <td>1.000000</td>\n",
       "      <td>1.000000</td>\n",
       "      <td>1.000000</td>\n",
       "      <td>1.000000</td>\n",
       "      <td>1.0</td>\n",
       "      <td>20.000000</td>\n",
       "      <td>400.000000</td>\n",
       "      <td>8000.000000</td>\n",
       "      <td>160000.000000</td>\n",
       "    </tr>\n",
       "  </tbody>\n",
       "</table>\n",
       "<p>8 rows × 33 columns</p>\n",
       "</div>"
      ],
      "text/plain": [
       "               hhid       lineno       weight      earnwke       uhours  \\\n",
       "count  3.404000e+03  3404.000000  3404.000000  3404.000000  3404.000000   \n",
       "mean   4.389977e+14     1.561398  2352.193724  1252.053637    41.211222   \n",
       "std    3.231419e+14     0.765892  1255.320431   685.573216     7.328230   \n",
       "min    1.718648e+10     1.000000   149.658300     0.400000     1.000000   \n",
       "25%    1.182361e+14     1.000000  1284.668025   758.307500    40.000000   \n",
       "50%    4.043134e+14     1.000000  2679.500250  1057.690000    40.000000   \n",
       "75%    7.209905e+14     2.000000  3303.234300  1581.190000    40.000000   \n",
       "max    9.999404e+14     7.000000  7411.615800  2884.610000    92.000000   \n",
       "\n",
       "           grade92         race      ethnic          age          sex  ...  \\\n",
       "count  3404.000000  3404.000000  224.000000  3404.000000  3404.000000  ...   \n",
       "mean     42.428613     1.409224    2.892857    42.066392     1.603702  ...   \n",
       "std       1.592634     1.134368    2.594776    11.538753     0.489200  ...   \n",
       "min      31.000000     1.000000    1.000000    17.000000     1.000000  ...   \n",
       "25%      42.000000     1.000000    1.000000    32.000000     1.000000  ...   \n",
       "50%      43.000000     1.000000    1.000000    42.000000     2.000000  ...   \n",
       "75%      43.000000     1.000000    5.000000    52.000000     2.000000  ...   \n",
       "max      46.000000    21.000000    8.000000    64.000000     2.000000  ...   \n",
       "\n",
       "             afram        asian         hisp    othernonw    nonUSborn  \\\n",
       "count  3404.000000  3404.000000  3404.000000  3404.000000  3404.000000   \n",
       "mean      0.074912     0.080787     0.065805     0.014982     0.123090   \n",
       "std       0.263288     0.272548     0.247977     0.121500     0.328589   \n",
       "min       0.000000     0.000000     0.000000     0.000000     0.000000   \n",
       "25%       0.000000     0.000000     0.000000     0.000000     0.000000   \n",
       "50%       0.000000     0.000000     0.000000     0.000000     0.000000   \n",
       "75%       0.000000     0.000000     0.000000     0.000000     0.000000   \n",
       "max       1.000000     1.000000     1.000000     1.000000     1.000000   \n",
       "\n",
       "       havechild         educ       educsq       educcu         educqu  \n",
       "count     3404.0  3404.000000  3404.000000  3404.000000    3404.000000  \n",
       "mean         1.0    15.814630   252.328731  4058.219448   65764.118390  \n",
       "std          0.0     1.492269    45.770573  1085.429463   23280.293888  \n",
       "min          1.0     1.000000     1.000000     1.000000       1.000000  \n",
       "25%          1.0    15.000000   225.000000  3375.000000   50625.000000  \n",
       "50%          1.0    16.000000   256.000000  4096.000000   65536.000000  \n",
       "75%          1.0    16.000000   256.000000  4096.000000   65536.000000  \n",
       "max          1.0    20.000000   400.000000  8000.000000  160000.000000  \n",
       "\n",
       "[8 rows x 33 columns]"
      ]
     },
     "execution_count": 57,
     "metadata": {},
     "output_type": "execute_result"
    }
   ],
   "source": [
    "df.describe()"
   ]
  },
  {
   "cell_type": "code",
   "execution_count": null,
   "id": "1fad52bb",
   "metadata": {},
   "outputs": [],
   "source": []
  }
 ],
 "metadata": {
  "kernelspec": {
   "display_name": "Python 3 (ipykernel)",
   "language": "python",
   "name": "python3"
  },
  "language_info": {
   "codemirror_mode": {
    "name": "ipython",
    "version": 3
   },
   "file_extension": ".py",
   "mimetype": "text/x-python",
   "name": "python",
   "nbconvert_exporter": "python",
   "pygments_lexer": "ipython3",
   "version": "3.8.3"
  }
 },
 "nbformat": 4,
 "nbformat_minor": 5
}
